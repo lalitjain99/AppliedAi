{
  "nbformat": 4,
  "nbformat_minor": 0,
  "metadata": {
    "colab": {
      "name": "mail2lalitjain@gmail.com_28n.ipynb",
      "provenance": [],
      "collapsed_sections": [],
      "toc_visible": true
    },
    "kernelspec": {
      "name": "python3",
      "display_name": "Python 3"
    },
    "accelerator": "GPU"
  },
  "cells": [
    {
      "cell_type": "code",
      "metadata": {
        "id": "fU80Ao-AGaob",
        "colab": {
          "base_uri": "https://localhost:8080/"
        },
        "outputId": "d154c3d4-38b5-4dde-80bb-7602efc59c64"
      },
      "source": [
        "!wget http://www.manythings.org/anki/ita-eng.zip"
      ],
      "execution_count": null,
      "outputs": [
        {
          "output_type": "stream",
          "text": [
            "--2021-01-07 14:29:01--  http://www.manythings.org/anki/ita-eng.zip\n",
            "Resolving www.manythings.org (www.manythings.org)... 104.24.109.196, 104.24.108.196, 172.67.173.198, ...\n",
            "Connecting to www.manythings.org (www.manythings.org)|104.24.109.196|:80... connected.\n",
            "HTTP request sent, awaiting response... 200 OK\n",
            "Length: 7521114 (7.2M) [application/zip]\n",
            "Saving to: ‘ita-eng.zip’\n",
            "\n",
            "ita-eng.zip         100%[===================>]   7.17M  5.32MB/s    in 1.3s    \n",
            "\n",
            "2021-01-07 14:29:03 (5.32 MB/s) - ‘ita-eng.zip’ saved [7521114/7521114]\n",
            "\n"
          ],
          "name": "stdout"
        }
      ]
    },
    {
      "cell_type": "code",
      "metadata": {
        "id": "VTkQkdXCTrhF",
        "colab": {
          "base_uri": "https://localhost:8080/"
        },
        "outputId": "ccd47ee9-6099-4268-e15b-cf707f5efaba"
      },
      "source": [
        "!unzip ita-eng.zip"
      ],
      "execution_count": null,
      "outputs": [
        {
          "output_type": "stream",
          "text": [
            "Archive:  ita-eng.zip\n",
            "  inflating: ita.txt                 \n",
            "  inflating: _about.txt              \n"
          ],
          "name": "stdout"
        }
      ]
    },
    {
      "cell_type": "code",
      "metadata": {
        "id": "_fsqIbsXT7e6"
      },
      "source": [
        "import matplotlib.pyplot as plt\n",
        "%matplotlib inline\n",
        "# import seaborn as sns\n",
        "import pandas as pd\n",
        "import re\n",
        "import os\n",
        "import matplotlib.ticker as ticker\n",
        "import tensorflow as tf\n",
        "from tensorflow.keras.layers import Input, Softmax, RNN, Dense, Embedding, LSTM,LSTMCell\n",
        "from tensorflow.keras.models import Model\n",
        "from tensorflow.keras.preprocessing.text import Tokenizer\n",
        "from tensorflow.keras.preprocessing.sequence import pad_sequences\n",
        "import numpy as np\n",
        "import nltk.translate.bleu_score as bleu\n",
        "import warnings\n",
        "warnings.filterwarnings('ignore')\n"
      ],
      "execution_count": null,
      "outputs": []
    },
    {
      "cell_type": "code",
      "metadata": {
        "id": "N1ncqvBMA0fs",
        "colab": {
          "base_uri": "https://localhost:8080/",
          "height": 212
        },
        "outputId": "3d55a586-5fb3-41d5-9fc4-0fbef48dcbfd"
      },
      "source": [
        "with open('ita.txt', 'r', encoding=\"utf8\") as f:\n",
        "    eng=[]\n",
        "    ita=[]\n",
        "    for i in f.readlines():\n",
        "        eng.append(i.split(\"\\t\")[0])\n",
        "        ita.append(i.split(\"\\t\")[1])\n",
        "data = pd.DataFrame(data=list(zip(eng, ita)), columns=['english','italian'])\n",
        "print(data.shape)\n",
        "data.head()"
      ],
      "execution_count": null,
      "outputs": [
        {
          "output_type": "stream",
          "text": [
            "(343813, 2)\n"
          ],
          "name": "stdout"
        },
        {
          "output_type": "execute_result",
          "data": {
            "text/html": [
              "<div>\n",
              "<style scoped>\n",
              "    .dataframe tbody tr th:only-of-type {\n",
              "        vertical-align: middle;\n",
              "    }\n",
              "\n",
              "    .dataframe tbody tr th {\n",
              "        vertical-align: top;\n",
              "    }\n",
              "\n",
              "    .dataframe thead th {\n",
              "        text-align: right;\n",
              "    }\n",
              "</style>\n",
              "<table border=\"1\" class=\"dataframe\">\n",
              "  <thead>\n",
              "    <tr style=\"text-align: right;\">\n",
              "      <th></th>\n",
              "      <th>english</th>\n",
              "      <th>italian</th>\n",
              "    </tr>\n",
              "  </thead>\n",
              "  <tbody>\n",
              "    <tr>\n",
              "      <th>0</th>\n",
              "      <td>Hi.</td>\n",
              "      <td>Ciao!</td>\n",
              "    </tr>\n",
              "    <tr>\n",
              "      <th>1</th>\n",
              "      <td>Run!</td>\n",
              "      <td>Corri!</td>\n",
              "    </tr>\n",
              "    <tr>\n",
              "      <th>2</th>\n",
              "      <td>Run!</td>\n",
              "      <td>Corra!</td>\n",
              "    </tr>\n",
              "    <tr>\n",
              "      <th>3</th>\n",
              "      <td>Run!</td>\n",
              "      <td>Correte!</td>\n",
              "    </tr>\n",
              "    <tr>\n",
              "      <th>4</th>\n",
              "      <td>Who?</td>\n",
              "      <td>Chi?</td>\n",
              "    </tr>\n",
              "  </tbody>\n",
              "</table>\n",
              "</div>"
            ],
            "text/plain": [
              "  english   italian\n",
              "0     Hi.     Ciao!\n",
              "1    Run!    Corri!\n",
              "2    Run!    Corra!\n",
              "3    Run!  Correte!\n",
              "4    Who?      Chi?"
            ]
          },
          "metadata": {
            "tags": []
          },
          "execution_count": 4
        }
      ]
    },
    {
      "cell_type": "markdown",
      "metadata": {
        "id": "vmGWTdRmKRph"
      },
      "source": [
        "<font color='aqua'>**Preprocess data**</font>"
      ]
    },
    {
      "cell_type": "code",
      "metadata": {
        "id": "9QqElB_nKZos",
        "colab": {
          "base_uri": "https://localhost:8080/",
          "height": 194
        },
        "outputId": "a4f224da-d829-4224-c447-570bdee2ab11"
      },
      "source": [
        "def decontractions(phrase):\n",
        "    \"\"\"decontracted takes text and convert contractions into natural form.\n",
        "     ref: https://stackoverflow.com/questions/19790188/expanding-english-language-contractions-in-python/47091490#47091490\"\"\"\n",
        "    # specific\n",
        "    phrase = re.sub(r\"won\\'t\", \"will not\", phrase)\n",
        "    phrase = re.sub(r\"can\\'t\", \"can not\", phrase)\n",
        "    phrase = re.sub(r\"won\\’t\", \"will not\", phrase)\n",
        "    phrase = re.sub(r\"can\\’t\", \"can not\", phrase)\n",
        "\n",
        "    # general\n",
        "    phrase = re.sub(r\"n\\'t\", \" not\", phrase)\n",
        "    phrase = re.sub(r\"\\'re\", \" are\", phrase)\n",
        "    phrase = re.sub(r\"\\'s\", \" is\", phrase)\n",
        "    phrase = re.sub(r\"\\'d\", \" would\", phrase)\n",
        "    phrase = re.sub(r\"\\'ll\", \" will\", phrase)\n",
        "    phrase = re.sub(r\"\\'t\", \" not\", phrase)\n",
        "    phrase = re.sub(r\"\\'ve\", \" have\", phrase)\n",
        "    phrase = re.sub(r\"\\'m\", \" am\", phrase)\n",
        "\n",
        "    phrase = re.sub(r\"n\\’t\", \" not\", phrase)\n",
        "    phrase = re.sub(r\"\\’re\", \" are\", phrase)\n",
        "    phrase = re.sub(r\"\\’s\", \" is\", phrase)\n",
        "    phrase = re.sub(r\"\\’d\", \" would\", phrase)\n",
        "    phrase = re.sub(r\"\\’ll\", \" will\", phrase)\n",
        "    phrase = re.sub(r\"\\’t\", \" not\", phrase)\n",
        "    phrase = re.sub(r\"\\’ve\", \" have\", phrase)\n",
        "    phrase = re.sub(r\"\\’m\", \" am\", phrase)\n",
        "\n",
        "    return phrase\n",
        "\n",
        "def preprocess(text):\n",
        "    # convert all the text into lower letters\n",
        "    # use this function to remove the contractions: https://gist.github.com/anandborad/d410a49a493b56dace4f814ab5325bbd\n",
        "    # remove all the spacial characters: except space ' '\n",
        "    text = text.lower()\n",
        "    text = decontractions(text)\n",
        "    text = re.sub('[^A-Za-z0-9 ]+', '', text)\n",
        "    return text\n",
        "\n",
        "def preprocess_ita(text):\n",
        "    # convert all the text into lower letters\n",
        "    # remove the words betweent brakets ()\n",
        "    # remove these characters: {'$', ')', '?', '\"', '’', '.',  '°', '!', ';', '/', \"'\", '€', '%', ':', ',', '('}\n",
        "    # replace these spl characters with space: '\\u200b', '\\xa0', '-', '/'\n",
        "    # we have found these characters after observing the data points, feel free to explore more and see if you can do find more\n",
        "    # note that the model will learn better with better preprocessed data \n",
        "    \n",
        "    text = text.lower()\n",
        "    text = decontractions(text)\n",
        "    text = re.sub('[$)\\?\"’.°!;\\'€%:,(/]', '', text)\n",
        "    text = re.sub('\\u200b', ' ', text)\n",
        "    text = re.sub('\\xa0', ' ', text)\n",
        "    text = re.sub('-', ' ', text)\n",
        "    return text\n",
        "\n",
        "\n",
        "data['english'] = data['english'].apply(preprocess)\n",
        "data['italian'] = data['italian'].apply(preprocess_ita)\n",
        "data.head()"
      ],
      "execution_count": null,
      "outputs": [
        {
          "output_type": "execute_result",
          "data": {
            "text/html": [
              "<div>\n",
              "<style scoped>\n",
              "    .dataframe tbody tr th:only-of-type {\n",
              "        vertical-align: middle;\n",
              "    }\n",
              "\n",
              "    .dataframe tbody tr th {\n",
              "        vertical-align: top;\n",
              "    }\n",
              "\n",
              "    .dataframe thead th {\n",
              "        text-align: right;\n",
              "    }\n",
              "</style>\n",
              "<table border=\"1\" class=\"dataframe\">\n",
              "  <thead>\n",
              "    <tr style=\"text-align: right;\">\n",
              "      <th></th>\n",
              "      <th>english</th>\n",
              "      <th>italian</th>\n",
              "    </tr>\n",
              "  </thead>\n",
              "  <tbody>\n",
              "    <tr>\n",
              "      <th>0</th>\n",
              "      <td>hi</td>\n",
              "      <td>ciao</td>\n",
              "    </tr>\n",
              "    <tr>\n",
              "      <th>1</th>\n",
              "      <td>run</td>\n",
              "      <td>corri</td>\n",
              "    </tr>\n",
              "    <tr>\n",
              "      <th>2</th>\n",
              "      <td>run</td>\n",
              "      <td>corra</td>\n",
              "    </tr>\n",
              "    <tr>\n",
              "      <th>3</th>\n",
              "      <td>run</td>\n",
              "      <td>correte</td>\n",
              "    </tr>\n",
              "    <tr>\n",
              "      <th>4</th>\n",
              "      <td>who</td>\n",
              "      <td>chi</td>\n",
              "    </tr>\n",
              "  </tbody>\n",
              "</table>\n",
              "</div>"
            ],
            "text/plain": [
              "  english  italian\n",
              "0      hi     ciao\n",
              "1     run    corri\n",
              "2     run    corra\n",
              "3     run  correte\n",
              "4     who      chi"
            ]
          },
          "metadata": {
            "tags": []
          },
          "execution_count": 5
        }
      ]
    },
    {
      "cell_type": "code",
      "metadata": {
        "id": "meNRrnMYax89",
        "colab": {
          "base_uri": "https://localhost:8080/",
          "height": 194
        },
        "outputId": "5f96c929-104f-48b8-f2ba-2f8c3f3336c3"
      },
      "source": [
        "data['italian_len'] = data['italian'].str.split().apply(len)\n",
        "data = data[data['italian_len'] < 20]\n",
        "\n",
        "data['english_len'] = data['english'].str.split().apply(len)\n",
        "data = data[data['english_len'] < 20]\n",
        "\n",
        "data['english_inp'] = '<start> ' + data['english'].astype(str)\n",
        "data['english_out'] = data['english'].astype(str) + ' <end>'\n",
        "\n",
        "data = data.drop(['english','italian_len','english_len'], axis=1)\n",
        "# only for the first sentance add a toke <end> so that we will have <end> in tokenizer\n",
        "data.head()"
      ],
      "execution_count": null,
      "outputs": [
        {
          "output_type": "execute_result",
          "data": {
            "text/html": [
              "<div>\n",
              "<style scoped>\n",
              "    .dataframe tbody tr th:only-of-type {\n",
              "        vertical-align: middle;\n",
              "    }\n",
              "\n",
              "    .dataframe tbody tr th {\n",
              "        vertical-align: top;\n",
              "    }\n",
              "\n",
              "    .dataframe thead th {\n",
              "        text-align: right;\n",
              "    }\n",
              "</style>\n",
              "<table border=\"1\" class=\"dataframe\">\n",
              "  <thead>\n",
              "    <tr style=\"text-align: right;\">\n",
              "      <th></th>\n",
              "      <th>italian</th>\n",
              "      <th>english_inp</th>\n",
              "      <th>english_out</th>\n",
              "    </tr>\n",
              "  </thead>\n",
              "  <tbody>\n",
              "    <tr>\n",
              "      <th>0</th>\n",
              "      <td>ciao</td>\n",
              "      <td>&lt;start&gt; hi</td>\n",
              "      <td>hi &lt;end&gt;</td>\n",
              "    </tr>\n",
              "    <tr>\n",
              "      <th>1</th>\n",
              "      <td>corri</td>\n",
              "      <td>&lt;start&gt; run</td>\n",
              "      <td>run &lt;end&gt;</td>\n",
              "    </tr>\n",
              "    <tr>\n",
              "      <th>2</th>\n",
              "      <td>corra</td>\n",
              "      <td>&lt;start&gt; run</td>\n",
              "      <td>run &lt;end&gt;</td>\n",
              "    </tr>\n",
              "    <tr>\n",
              "      <th>3</th>\n",
              "      <td>correte</td>\n",
              "      <td>&lt;start&gt; run</td>\n",
              "      <td>run &lt;end&gt;</td>\n",
              "    </tr>\n",
              "    <tr>\n",
              "      <th>4</th>\n",
              "      <td>chi</td>\n",
              "      <td>&lt;start&gt; who</td>\n",
              "      <td>who &lt;end&gt;</td>\n",
              "    </tr>\n",
              "  </tbody>\n",
              "</table>\n",
              "</div>"
            ],
            "text/plain": [
              "   italian  english_inp english_out\n",
              "0     ciao   <start> hi    hi <end>\n",
              "1    corri  <start> run   run <end>\n",
              "2    corra  <start> run   run <end>\n",
              "3  correte  <start> run   run <end>\n",
              "4      chi  <start> who   who <end>"
            ]
          },
          "metadata": {
            "tags": []
          },
          "execution_count": 6
        }
      ]
    },
    {
      "cell_type": "code",
      "metadata": {
        "id": "TL3AteeqbHE3",
        "colab": {
          "base_uri": "https://localhost:8080/",
          "height": 194
        },
        "outputId": "d4335e8b-646f-45fc-ac5e-d475f9dbb5b2"
      },
      "source": [
        "data.sample(5)"
      ],
      "execution_count": null,
      "outputs": [
        {
          "output_type": "execute_result",
          "data": {
            "text/html": [
              "<div>\n",
              "<style scoped>\n",
              "    .dataframe tbody tr th:only-of-type {\n",
              "        vertical-align: middle;\n",
              "    }\n",
              "\n",
              "    .dataframe tbody tr th {\n",
              "        vertical-align: top;\n",
              "    }\n",
              "\n",
              "    .dataframe thead th {\n",
              "        text-align: right;\n",
              "    }\n",
              "</style>\n",
              "<table border=\"1\" class=\"dataframe\">\n",
              "  <thead>\n",
              "    <tr style=\"text-align: right;\">\n",
              "      <th></th>\n",
              "      <th>italian</th>\n",
              "      <th>english_inp</th>\n",
              "      <th>english_out</th>\n",
              "    </tr>\n",
              "  </thead>\n",
              "  <tbody>\n",
              "    <tr>\n",
              "      <th>98883</th>\n",
              "      <td>hai sciato ieri</td>\n",
              "      <td>&lt;start&gt; did you ski yesterday</td>\n",
              "      <td>did you ski yesterday &lt;end&gt;</td>\n",
              "    </tr>\n",
              "    <tr>\n",
              "      <th>43650</th>\n",
              "      <td>lei è negligente</td>\n",
              "      <td>&lt;start&gt; you are negligent</td>\n",
              "      <td>you are negligent &lt;end&gt;</td>\n",
              "    </tr>\n",
              "    <tr>\n",
              "      <th>337369</th>\n",
              "      <td>manderete qualcuno a ripararla il prima possibile</td>\n",
              "      <td>&lt;start&gt; will you send someone to fix it as soo...</td>\n",
              "      <td>will you send someone to fix it as soon as pos...</td>\n",
              "    </tr>\n",
              "    <tr>\n",
              "      <th>297648</th>\n",
              "      <td>tom sta affrontando qualche problema serio</td>\n",
              "      <td>&lt;start&gt; tom is facing a few serious problems</td>\n",
              "      <td>tom is facing a few serious problems &lt;end&gt;</td>\n",
              "    </tr>\n",
              "    <tr>\n",
              "      <th>299985</th>\n",
              "      <td>avete mai assaggiato una zuppa così buona</td>\n",
              "      <td>&lt;start&gt; have you ever tasted such a good soup</td>\n",
              "      <td>have you ever tasted such a good soup &lt;end&gt;</td>\n",
              "    </tr>\n",
              "  </tbody>\n",
              "</table>\n",
              "</div>"
            ],
            "text/plain": [
              "                                                  italian  ...                                        english_out\n",
              "98883                                     hai sciato ieri  ...                        did you ski yesterday <end>\n",
              "43650                                    lei è negligente  ...                            you are negligent <end>\n",
              "337369  manderete qualcuno a ripararla il prima possibile  ...  will you send someone to fix it as soon as pos...\n",
              "297648         tom sta affrontando qualche problema serio  ...         tom is facing a few serious problems <end>\n",
              "299985          avete mai assaggiato una zuppa così buona  ...        have you ever tasted such a good soup <end>\n",
              "\n",
              "[5 rows x 3 columns]"
            ]
          },
          "metadata": {
            "tags": []
          },
          "execution_count": 7
        }
      ]
    },
    {
      "cell_type": "markdown",
      "metadata": {
        "id": "QH2qkH_4jgKD"
      },
      "source": [
        "<font size=5 color = 'cherry'> Getting train and test </font>"
      ]
    },
    {
      "cell_type": "code",
      "metadata": {
        "id": "hMxPsP16i78l"
      },
      "source": [
        "from sklearn.model_selection import train_test_split\n",
        "train, validation = train_test_split(data, test_size=0.2)"
      ],
      "execution_count": null,
      "outputs": []
    },
    {
      "cell_type": "code",
      "metadata": {
        "id": "zC2Nb2xgjASP",
        "colab": {
          "base_uri": "https://localhost:8080/"
        },
        "outputId": "d79fbb0f-777f-4fbb-9f5e-1ff92485ebc5"
      },
      "source": [
        "print(train.shape, validation.shape)\n",
        "# for one sentence we will be adding <end> token so that the tokanizer learns the word <end>\n",
        "# with this we can use only one tokenizer for both encoder output and decoder output\n",
        "train.iloc[0]['english_inp']= str(train.iloc[0]['english_inp'])+' <end>'\n",
        "train.iloc[0]['english_out']= str(train.iloc[0]['english_out'])+' <end>'"
      ],
      "execution_count": null,
      "outputs": [
        {
          "output_type": "stream",
          "text": [
            "(274710, 3) (68678, 3)\n"
          ],
          "name": "stdout"
        }
      ]
    },
    {
      "cell_type": "code",
      "metadata": {
        "id": "gL-hFOCLjEQZ",
        "colab": {
          "base_uri": "https://localhost:8080/",
          "height": 194
        },
        "outputId": "861f3f61-3e1b-4dfe-f27e-8c68e5f13d77"
      },
      "source": [
        "train.head()"
      ],
      "execution_count": null,
      "outputs": [
        {
          "output_type": "execute_result",
          "data": {
            "text/html": [
              "<div>\n",
              "<style scoped>\n",
              "    .dataframe tbody tr th:only-of-type {\n",
              "        vertical-align: middle;\n",
              "    }\n",
              "\n",
              "    .dataframe tbody tr th {\n",
              "        vertical-align: top;\n",
              "    }\n",
              "\n",
              "    .dataframe thead th {\n",
              "        text-align: right;\n",
              "    }\n",
              "</style>\n",
              "<table border=\"1\" class=\"dataframe\">\n",
              "  <thead>\n",
              "    <tr style=\"text-align: right;\">\n",
              "      <th></th>\n",
              "      <th>italian</th>\n",
              "      <th>english_inp</th>\n",
              "      <th>english_out</th>\n",
              "    </tr>\n",
              "  </thead>\n",
              "  <tbody>\n",
              "    <tr>\n",
              "      <th>122194</th>\n",
              "      <td>queste sono tue giusto</td>\n",
              "      <td>&lt;start&gt; these are yours right &lt;end&gt;</td>\n",
              "      <td>these are yours right &lt;end&gt; &lt;end&gt;</td>\n",
              "    </tr>\n",
              "    <tr>\n",
              "      <th>122984</th>\n",
              "      <td>tom non riesce ad aiutarla adesso</td>\n",
              "      <td>&lt;start&gt; tom can not help you now</td>\n",
              "      <td>tom can not help you now &lt;end&gt;</td>\n",
              "    </tr>\n",
              "    <tr>\n",
              "      <th>291305</th>\n",
              "      <td>tom non è disposto a dire la verità</td>\n",
              "      <td>&lt;start&gt; tom is not willing to tell the truth</td>\n",
              "      <td>tom is not willing to tell the truth &lt;end&gt;</td>\n",
              "    </tr>\n",
              "    <tr>\n",
              "      <th>234053</th>\n",
              "      <td>ci stai registrando in questo momento</td>\n",
              "      <td>&lt;start&gt; are you recording us right now</td>\n",
              "      <td>are you recording us right now &lt;end&gt;</td>\n",
              "    </tr>\n",
              "    <tr>\n",
              "      <th>113667</th>\n",
              "      <td>scegliete tra i due</td>\n",
              "      <td>&lt;start&gt; choose between the two</td>\n",
              "      <td>choose between the two &lt;end&gt;</td>\n",
              "    </tr>\n",
              "  </tbody>\n",
              "</table>\n",
              "</div>"
            ],
            "text/plain": [
              "                                      italian  ...                                 english_out\n",
              "122194                 queste sono tue giusto  ...           these are yours right <end> <end>\n",
              "122984      tom non riesce ad aiutarla adesso  ...              tom can not help you now <end>\n",
              "291305    tom non è disposto a dire la verità  ...  tom is not willing to tell the truth <end>\n",
              "234053  ci stai registrando in questo momento  ...        are you recording us right now <end>\n",
              "113667                    scegliete tra i due  ...                choose between the two <end>\n",
              "\n",
              "[5 rows x 3 columns]"
            ]
          },
          "metadata": {
            "tags": []
          },
          "execution_count": 10
        }
      ]
    },
    {
      "cell_type": "code",
      "metadata": {
        "id": "xUpJvTbbjrX8",
        "colab": {
          "base_uri": "https://localhost:8080/",
          "height": 194
        },
        "outputId": "c1fa8c00-d3c1-490a-e08d-6d92d6261583"
      },
      "source": [
        "validation.head()"
      ],
      "execution_count": null,
      "outputs": [
        {
          "output_type": "execute_result",
          "data": {
            "text/html": [
              "<div>\n",
              "<style scoped>\n",
              "    .dataframe tbody tr th:only-of-type {\n",
              "        vertical-align: middle;\n",
              "    }\n",
              "\n",
              "    .dataframe tbody tr th {\n",
              "        vertical-align: top;\n",
              "    }\n",
              "\n",
              "    .dataframe thead th {\n",
              "        text-align: right;\n",
              "    }\n",
              "</style>\n",
              "<table border=\"1\" class=\"dataframe\">\n",
              "  <thead>\n",
              "    <tr style=\"text-align: right;\">\n",
              "      <th></th>\n",
              "      <th>italian</th>\n",
              "      <th>english_inp</th>\n",
              "      <th>english_out</th>\n",
              "    </tr>\n",
              "  </thead>\n",
              "  <tbody>\n",
              "    <tr>\n",
              "      <th>35347</th>\n",
              "      <td>io non riesco a stare in piedi</td>\n",
              "      <td>&lt;start&gt; i can not stand up</td>\n",
              "      <td>i can not stand up &lt;end&gt;</td>\n",
              "    </tr>\n",
              "    <tr>\n",
              "      <th>87903</th>\n",
              "      <td>io devo risparmiare denaro</td>\n",
              "      <td>&lt;start&gt; i need to save money</td>\n",
              "      <td>i need to save money &lt;end&gt;</td>\n",
              "    </tr>\n",
              "    <tr>\n",
              "      <th>269545</th>\n",
              "      <td>non avere paura non ti farò del male</td>\n",
              "      <td>&lt;start&gt; do not be afraid i will not hurt you</td>\n",
              "      <td>do not be afraid i will not hurt you &lt;end&gt;</td>\n",
              "    </tr>\n",
              "    <tr>\n",
              "      <th>262451</th>\n",
              "      <td>io sto provando a non fare arrabbiare tom</td>\n",
              "      <td>&lt;start&gt; i am trying not to make tom angry</td>\n",
              "      <td>i am trying not to make tom angry &lt;end&gt;</td>\n",
              "    </tr>\n",
              "    <tr>\n",
              "      <th>118560</th>\n",
              "      <td>voglio sentire chi ha vinto</td>\n",
              "      <td>&lt;start&gt; i want to hear who won</td>\n",
              "      <td>i want to hear who won &lt;end&gt;</td>\n",
              "    </tr>\n",
              "  </tbody>\n",
              "</table>\n",
              "</div>"
            ],
            "text/plain": [
              "                                          italian  ...                                 english_out\n",
              "35347              io non riesco a stare in piedi  ...                    i can not stand up <end>\n",
              "87903                  io devo risparmiare denaro  ...                  i need to save money <end>\n",
              "269545       non avere paura non ti farò del male  ...  do not be afraid i will not hurt you <end>\n",
              "262451  io sto provando a non fare arrabbiare tom  ...     i am trying not to make tom angry <end>\n",
              "118560                voglio sentire chi ha vinto  ...                i want to hear who won <end>\n",
              "\n",
              "[5 rows x 3 columns]"
            ]
          },
          "metadata": {
            "tags": []
          },
          "execution_count": 11
        }
      ]
    },
    {
      "cell_type": "markdown",
      "metadata": {
        "id": "xNxT8oYTj18y"
      },
      "source": [
        "<font size =4 color ='pink' > Creating Tokenizer on the train data and learning vocabulary </font>"
      ]
    },
    {
      "cell_type": "code",
      "metadata": {
        "id": "xUJ3EEqoj3Ci"
      },
      "source": [
        "tknizer_ita = Tokenizer()\n",
        "tknizer_ita.fit_on_texts(train['italian'].values)\n",
        "tknizer_eng = Tokenizer(filters='!\"#$%&()*+,-./:;=?@[\\\\]^_`{|}~\\t\\n')\n",
        "tknizer_eng.fit_on_texts(train['english_inp'].values)"
      ],
      "execution_count": null,
      "outputs": []
    },
    {
      "cell_type": "code",
      "metadata": {
        "id": "5SjFEgBcj-K1",
        "colab": {
          "base_uri": "https://localhost:8080/"
        },
        "outputId": "8030f75d-5394-4e31-b3b6-abfe057b498d"
      },
      "source": [
        "vocab_size_eng=len(tknizer_eng.word_index.keys())\n",
        "print(vocab_size_eng)\n",
        "vocab_size_ita=len(tknizer_ita.word_index.keys())\n",
        "print(vocab_size_ita)"
      ],
      "execution_count": null,
      "outputs": [
        {
          "output_type": "stream",
          "text": [
            "12825\n",
            "26223\n"
          ],
          "name": "stdout"
        }
      ]
    },
    {
      "cell_type": "code",
      "metadata": {
        "id": "tDnMnzxJktKH",
        "colab": {
          "base_uri": "https://localhost:8080/"
        },
        "outputId": "6a933e67-b0a7-4c03-9b94-80b9ee7b8749"
      },
      "source": [
        "tknizer_eng.word_index['<start>'], tknizer_eng.word_index['<end>']"
      ],
      "execution_count": null,
      "outputs": [
        {
          "output_type": "execute_result",
          "data": {
            "text/plain": [
              "(1, 10170)"
            ]
          },
          "metadata": {
            "tags": []
          },
          "execution_count": 14
        }
      ]
    },
    {
      "cell_type": "markdown",
      "metadata": {
        "id": "8-HLITx8k2JJ"
      },
      "source": [
        "### Creating embeddings for english sentences"
      ]
    },
    {
      "cell_type": "code",
      "metadata": {
        "id": "ToEJZVdsk_S-",
        "colab": {
          "base_uri": "https://localhost:8080/"
        },
        "outputId": "931634bf-c0fe-4143-d698-aa41bb0dc258"
      },
      "source": [
        "!wget https://www.dropbox.com/s/ddkmtqz01jc024u/glove.6B.100d.txt"
      ],
      "execution_count": null,
      "outputs": [
        {
          "output_type": "stream",
          "text": [
            "--2021-01-07 14:29:24--  https://www.dropbox.com/s/ddkmtqz01jc024u/glove.6B.100d.txt\n",
            "Resolving www.dropbox.com (www.dropbox.com)... 162.125.1.18, 2620:100:6016:18::a27d:112\n",
            "Connecting to www.dropbox.com (www.dropbox.com)|162.125.1.18|:443... connected.\n",
            "HTTP request sent, awaiting response... 301 Moved Permanently\n",
            "Location: /s/raw/ddkmtqz01jc024u/glove.6B.100d.txt [following]\n",
            "--2021-01-07 14:29:24--  https://www.dropbox.com/s/raw/ddkmtqz01jc024u/glove.6B.100d.txt\n",
            "Reusing existing connection to www.dropbox.com:443.\n",
            "HTTP request sent, awaiting response... 302 Found\n",
            "Location: https://ucf8bd0b9e690e60e1441bda4d2a.dl.dropboxusercontent.com/cd/0/inline/BGi7lODoUc2UVhVKFOLJhTDasCjJpIrMxkmJfOB2JbFLSU2ajHKtqiDF31hUQSoy9B8oT1PAnGbmJmrMTQo5HmhbWhQ7lGwEW7gvvS2uk_pcJ0QPxZVMBZ6fLulvX41U85I/file# [following]\n",
            "--2021-01-07 14:29:24--  https://ucf8bd0b9e690e60e1441bda4d2a.dl.dropboxusercontent.com/cd/0/inline/BGi7lODoUc2UVhVKFOLJhTDasCjJpIrMxkmJfOB2JbFLSU2ajHKtqiDF31hUQSoy9B8oT1PAnGbmJmrMTQo5HmhbWhQ7lGwEW7gvvS2uk_pcJ0QPxZVMBZ6fLulvX41U85I/file\n",
            "Resolving ucf8bd0b9e690e60e1441bda4d2a.dl.dropboxusercontent.com (ucf8bd0b9e690e60e1441bda4d2a.dl.dropboxusercontent.com)... 162.125.1.15, 2620:100:6016:15::a27d:10f\n",
            "Connecting to ucf8bd0b9e690e60e1441bda4d2a.dl.dropboxusercontent.com (ucf8bd0b9e690e60e1441bda4d2a.dl.dropboxusercontent.com)|162.125.1.15|:443... connected.\n",
            "HTTP request sent, awaiting response... 200 OK\n",
            "Length: 347116733 (331M) [text/plain]\n",
            "Saving to: ‘glove.6B.100d.txt’\n",
            "\n",
            "glove.6B.100d.txt   100%[===================>] 331.04M  95.9MB/s    in 3.6s    \n",
            "\n",
            "2021-01-07 14:29:28 (92.1 MB/s) - ‘glove.6B.100d.txt’ saved [347116733/347116733]\n",
            "\n"
          ],
          "name": "stdout"
        }
      ]
    },
    {
      "cell_type": "code",
      "metadata": {
        "id": "_YI9wWiWk6Tf"
      },
      "source": [
        "embeddings_index = dict()\n",
        "f = open('glove.6B.100d.txt')\n",
        "for line in f:\n",
        "    values = line.split()\n",
        "    word = values[0]\n",
        "    coefs = np.asarray(values[1:], dtype='float32')\n",
        "    embeddings_index[word] = coefs\n",
        "f.close()\n",
        "\n"
      ],
      "execution_count": null,
      "outputs": []
    },
    {
      "cell_type": "code",
      "metadata": {
        "id": "HInMLHJLKaqc"
      },
      "source": [
        "embedding_matrix = np.zeros((vocab_size_eng+1, 100))\n",
        "for word, i in tknizer_eng.word_index.items():\n",
        "    embedding_vector = embeddings_index.get(word)\n",
        "    if embedding_vector is not None:\n",
        "        embedding_matrix[i] = embedding_vector"
      ],
      "execution_count": null,
      "outputs": []
    },
    {
      "cell_type": "markdown",
      "metadata": {
        "id": "S8RDrP4xKabR"
      },
      "source": [
        "## <font color='gree'>**Implement custom encoder decoder**</font>"
      ]
    },
    {
      "cell_type": "markdown",
      "metadata": {
        "id": "A45uc0JILMlV"
      },
      "source": [
        "<font color='gree'>**Encoder**</font>"
      ]
    },
    {
      "cell_type": "code",
      "metadata": {
        "id": "9cex2XfCLOew"
      },
      "source": [
        "class Encoder(tf.keras.Model):\n",
        "    '''\n",
        "    Encoder model -- That takes a input sequence and returns encoder-outputs,encoder_final_state_h,encoder_final_state_c\n",
        "    '''\n",
        "\n",
        "    def __init__(self,inp_vocab_size,embedding_size,lstm_size,input_length):\n",
        "        super().__init__()\n",
        "        self.inp_vocab_size = inp_vocab_size\n",
        "        self.embedding_size = embedding_size\n",
        "        self.lstm_size = lstm_size\n",
        "        self.input_length = input_length\n",
        "        self.lstm_output = 0\n",
        "\n",
        "    def build(self,input_shape):    \n",
        "        #Initialize Embedding layer\n",
        "        self.encoder_embedding = Embedding(input_dim = self.inp_vocab_size,output_dim = self.embedding_size,input_length = self.input_length,\n",
        "                                           mask_zero = True,name = 'Embedding_Layer_Encoder' )\n",
        "        #Intialize Encoder LSTM layer\n",
        "        self.lstmcell = tf.keras.layers.LSTMCell(self.lstm_size)\n",
        "        self.encoder_lstm = RNN(self.lstmcell,return_sequences=True, return_state=True)\n",
        "        \n",
        "\n",
        "    def call(self,input_sequence,states):\n",
        "        '''\n",
        "          This function takes a sequence input and the initial states of the encoder.\n",
        "          Pass the input_sequence input to the Embedding layer, Pass the embedding layer ouput to encoder_lstm\n",
        "          returns -- encoder_output, last time step's hidden and cell state\n",
        "        '''\n",
        "        input_embedding = self.encoder_embedding(input_sequence)\n",
        "        self.lstm_output,self.lstm_state_h,self.lstm_state_c = self.encoder_lstm(input_embedding)\n",
        "        return self.lstm_output,self.lstm_state_h,self.lstm_state_c\n",
        "      \n",
        "    def initialize_states(self,batch_size):\n",
        "        '''\n",
        "        Given a batch size it will return intial hidden state and intial cell state.\n",
        "        If batch size is 32- Hidden state is zeros of size [32,lstm_units], cell state zeros is of size [32,lstm_units]\n",
        "        '''\n",
        "        self.lstm_state_h = tf.random.uniform(shape=[batch_size,self.lstm_size],dtype=tf.float32)\n",
        "        self.lstm_state_c = tf.random.uniform(shape=[batch_size,self.lstm_size],dtype=tf.float32)\n",
        "        states = [self.lstm_state_h,self.lstm_state_c]\n",
        "        return states\n",
        "      "
      ],
      "execution_count": null,
      "outputs": []
    },
    {
      "cell_type": "markdown",
      "metadata": {
        "id": "EtbOI3VwLOe0"
      },
      "source": [
        "<font color='orange'>**Grader function - 1**</font>"
      ]
    },
    {
      "cell_type": "code",
      "metadata": {
        "id": "ziSqOgmhLOe1",
        "colab": {
          "base_uri": "https://localhost:8080/"
        },
        "outputId": "b066fa80-91a4-4583-fc74-45fbf9bed5d4"
      },
      "source": [
        "#my result\n",
        "def grader_check_encoder():\n",
        "    '''\n",
        "        vocab-size: Unique words of the input language,\n",
        "        embedding_size: output embedding dimension for each word after embedding layer,\n",
        "        lstm_size: Number of lstm units,\n",
        "        input_length: Length of the input sentence,\n",
        "        batch_size\n",
        "    '''\n",
        "    vocab_size=10\n",
        "    embedding_size=20\n",
        "    lstm_size=32\n",
        "    input_length=10\n",
        "    batch_size=16\n",
        "    #Intialzing encoder \n",
        "    encoder=Encoder(vocab_size,embedding_size,lstm_size,input_length)\n",
        "    input_sequence=tf.random.uniform(shape=[batch_size,input_length],maxval=vocab_size,minval=0,dtype=tf.int32)\n",
        "    #Intializing encoder initial states\n",
        "    initial_state=encoder.initialize_states(batch_size)\n",
        "    \n",
        "    encoder_output,state_h,state_c=encoder(input_sequence,initial_state)\n",
        "    \n",
        "    assert(encoder_output.shape==(batch_size,input_length,lstm_size) and state_h.shape==(batch_size,lstm_size) and state_c.shape==(batch_size,lstm_size))\n",
        "    return True\n",
        "print(grader_check_encoder())"
      ],
      "execution_count": null,
      "outputs": [
        {
          "output_type": "stream",
          "text": [
            "True\n"
          ],
          "name": "stdout"
        }
      ]
    },
    {
      "cell_type": "code",
      "metadata": {
        "id": "e8oSqj4LKd9d"
      },
      "source": [
        "#embedding matrix for grader function\n",
        "embedding_matrix = np.zeros((13,12))"
      ],
      "execution_count": null,
      "outputs": []
    },
    {
      "cell_type": "code",
      "metadata": {
        "id": "x1ES1-sJLOe4"
      },
      "source": [
        "class Decoder(tf.keras.Model):\n",
        "    '''\n",
        "    Dncoder model -- That takes a input sequence and returns output sequence\n",
        "    '''\n",
        "\n",
        "    def __init__(self,out_vocab_size,embedding_size,lstm_size,input_length):\n",
        "        #calling Parent class init function\n",
        "        super().__init__()\n",
        "        #Intializing parameters\n",
        "        self.out_vocab_size = out_vocab_size\n",
        "        self.embedding_size = embedding_size\n",
        "        self.lstm_size = lstm_size\n",
        "        self.input_length = input_length\n",
        "\n",
        "    def build(self,input_shape):\n",
        "        #Initialize Embedding layer\n",
        "        self.decoder_embed = Embedding(input_dim = self.out_vocab_size,output_dim = self.embedding_size,input_length = self.input_length,\n",
        "                                       mask_zero = True,name = \"Embedding_layer_Decoder\",weights = [embedding_matrix],trainable = False)\n",
        "        #Intialize Decoder LSTM layer\n",
        "        self.lstmcell = tf.keras.layers.LSTMCell(self.lstm_size)\n",
        "        self.decoder_lstm = RNN(self.lstmcell,return_sequences=True, return_state=True)\n",
        "\n",
        "\n",
        "    def call(self,input_sequence_decoder,initial_states):\n",
        "        '''\n",
        "          This function takes a sequence input and the initial states of the encoder.\n",
        "          Pass the input_sequence input to the Embedding layer, Pass the embedding layer ouput to decoder_lstm\n",
        "        \n",
        "          returns -- decoder_output,decoder_final_state_h,decoder_final_state_c\n",
        "        '''\n",
        "        target_embedd           = self.decoder_embed(input_sequence_decoder)\n",
        "        decoder_output, decoder_final_state_h,decoder_final_state_c  = self.decoder_lstm(target_embedd, initial_state=[initial_states[0], initial_states[1]])\n",
        "        return decoder_output,decoder_final_state_h,decoder_final_state_c\n",
        "\n",
        "      \n"
      ],
      "execution_count": null,
      "outputs": []
    },
    {
      "cell_type": "markdown",
      "metadata": {
        "id": "Hq-I0SUbLOe8"
      },
      "source": [
        "<font color='orange'>**Grader function - 2**</font>"
      ]
    },
    {
      "cell_type": "code",
      "metadata": {
        "id": "0B0gokgKLOe8",
        "colab": {
          "base_uri": "https://localhost:8080/"
        },
        "outputId": "f6eac7ba-db0d-4c44-a4f6-fc479da20c09"
      },
      "source": [
        "#my result\n",
        "def grader_decoder():\n",
        "    '''\n",
        "        out_vocab_size: Unique words of the target language,\n",
        "        embedding_size: output embedding dimension for each word after embedding layer,\n",
        "        dec_units: Number of lstm units in decoder,\n",
        "        input_length: Length of the input sentence,\n",
        "        batch_size\n",
        "        \n",
        "    \n",
        "    '''\n",
        "    out_vocab_size=13 \n",
        "    embedding_dim=12 \n",
        "    input_length=10\n",
        "    dec_units=16 \n",
        "    batch_size=32\n",
        "    \n",
        "    target_sentences=tf.random.uniform(shape=(batch_size,input_length),maxval=10,minval=0,dtype=tf.int32)\n",
        "    encoder_output=tf.random.uniform(shape=[batch_size,input_length,dec_units])\n",
        "    state_h=tf.random.uniform(shape=[batch_size,dec_units])\n",
        "    state_c=tf.random.uniform(shape=[batch_size,dec_units])\n",
        "    states=[state_h,state_c]\n",
        "    decoder=Decoder(out_vocab_size, embedding_dim, dec_units,input_length )\n",
        "    output,_,_=decoder(target_sentences, states)\n",
        "    assert(output.shape==(batch_size,input_length,dec_units))\n",
        "    return True\n",
        "print(grader_decoder())\n"
      ],
      "execution_count": null,
      "outputs": [
        {
          "output_type": "stream",
          "text": [
            "True\n"
          ],
          "name": "stdout"
        }
      ]
    },
    {
      "cell_type": "markdown",
      "metadata": {
        "id": "oNUtdiI8nzoD"
      },
      "source": [
        "<font size  = 5  color = 'violet'> Creating data pipeline </font>"
      ]
    },
    {
      "cell_type": "code",
      "metadata": {
        "id": "CPdRq9yBoYsZ"
      },
      "source": [
        "class dataset:\n",
        "    def __init__(self,data,tknizer_ita,tknizer_eng,max_len):\n",
        "\n",
        "        self.encoder_inps = data['italian'].values\n",
        "        self.decoder_inps = data['english_inp'].values\n",
        "        self.decoder_outs = data['english_out'].values\n",
        "        self.tknizer_eng = tknizer_eng\n",
        "        self.tknizer_ita = tknizer_ita\n",
        "        self.max_len = max_len\n",
        "\n",
        "    def __getitem__(self,i):\n",
        "        self.encoder_seq = self.tknizer_ita.texts_to_sequences([self.encoder_inps[i]]) # need to pass list of values\n",
        "        self.decoder_inp_seq = self.tknizer_eng.texts_to_sequences([self.decoder_inps[i]])\n",
        "        self.decoder_out_seq = self.tknizer_eng.texts_to_sequences([self.decoder_outs[i]])\n",
        "\n",
        "\n",
        "        self.encoder_seq = pad_sequences(self.encoder_seq, maxlen=self.max_len, dtype='int32', padding='post')\n",
        "        self.decoder_inp_seq = pad_sequences(self.decoder_inp_seq, maxlen=self.max_len, dtype='int32', padding='post')\n",
        "        self.decoder_out_seq = pad_sequences(self.decoder_out_seq, maxlen=self.max_len, dtype='int32', padding='post')\n",
        "        return self.encoder_seq, self.decoder_inp_seq, self.decoder_out_seq\n",
        "\n",
        "    def __len__(self): # your model.fit_gen requires this function\n",
        "        return len(self.encoder_inps)  \n",
        "\n",
        "\n",
        "class Dataloder(tf.keras.utils.Sequence):    \n",
        "    def __init__(self, dataset, batch_size=1):\n",
        "        self.dataset = dataset\n",
        "        self.batch_size = batch_size\n",
        "        self.indexes = np.arange(len(self.dataset.encoder_inps))\n",
        "\n",
        "\n",
        "    def __getitem__(self, i):\n",
        "        start = i * self.batch_size\n",
        "        stop = (i + 1) * self.batch_size\n",
        "        data = []\n",
        "        for j in range(start, stop):\n",
        "            data.append(self.dataset[j])\n",
        "\n",
        "        batch = [np.squeeze(np.stack(samples, axis=1), axis=0) for samples in zip(*data)]\n",
        "        # we are creating data like ([italian, english_inp], english_out) these are already converted into seq\n",
        "        return tuple([[batch[0],batch[1]],batch[2]])\n",
        "\n",
        "    def __len__(self):  # your model.fit_gen requires this function\n",
        "        return len(self.indexes) // self.batch_size\n",
        "\n",
        "    def on_epoch_end(self):\n",
        "        self.indexes = np.random.permutation(self.indexes)          \n"
      ],
      "execution_count": null,
      "outputs": []
    },
    {
      "cell_type": "code",
      "metadata": {
        "id": "5ZOY-p-svndK",
        "colab": {
          "base_uri": "https://localhost:8080/"
        },
        "outputId": "eb4387e4-2f39-4c72-c78d-907a40753ee9"
      },
      "source": [
        "train_dataset = dataset(train, tknizer_ita, tknizer_eng, 20)\n",
        "test_dataset  = dataset(validation, tknizer_ita, tknizer_eng, 20)\n",
        "\n",
        "\n",
        "train_dataloader = Dataloder(train_dataset, batch_size=1024)\n",
        "test_dataloader = Dataloder(test_dataset, batch_size=1024)\n",
        "\n",
        "\n",
        "print(train_dataloader[0][0][0].shape, train_dataloader[0][0][1].shape, train_dataloader[0][1].shape)"
      ],
      "execution_count": null,
      "outputs": [
        {
          "output_type": "stream",
          "text": [
            "(1024, 20) (1024, 20) (1024, 20)\n"
          ],
          "name": "stdout"
        }
      ]
    },
    {
      "cell_type": "markdown",
      "metadata": {
        "id": "U3IutCZEh_cF"
      },
      "source": [
        "<font size =6 color = 'DarkOrange'><b>MODEL-1</b></font>"
      ]
    },
    {
      "cell_type": "code",
      "metadata": {
        "id": "BXrIj4scLOe_"
      },
      "source": [
        "class Encoder_Decoder(tf.keras.Model):\n",
        "    \n",
        "    def __init__(self,encoder_inputs_length,decoder_inputs_length, output_vocab_size):\n",
        "        \n",
        "        super().__init__() \n",
        "        #create encoder object\n",
        "        self.encoder = Encoder(inp_vocab_size=vocab_size_ita+1, embedding_size=100, input_length=encoder_inputs_length, lstm_size=256)\n",
        "        #create decoder object   out_vocab_size,embedding_size,lstm_size,input_length\n",
        "        self.decoder = Decoder(out_vocab_size=vocab_size_eng+1, embedding_size=100, input_length=decoder_inputs_length, lstm_size=256)\n",
        "        #output dense layer\n",
        "        self.dense   = Dense(output_vocab_size, activation='softmax')\n",
        "    \n",
        "    \n",
        "    def call(self,data):\n",
        "        '''\n",
        "        A. Pass the input sequence to Encoder layer -- Return encoder_output,encoder_final_state_h,encoder_final_state_c\n",
        "        B. Pass the target sequence to Decoder layer with intial states as encoder_final_state_h,encoder_final_state_C\n",
        "        C. Pass the decoder_outputs into Dense layer \n",
        "        \n",
        "        Return decoder_outputs\n",
        "        '''\n",
        "        input,output = data[0], data[1]\n",
        "        batch_size = 1024\n",
        "        states = self.encoder.initialize_states(batch_size)\n",
        "        encoder_output, encoder_h, encoder_c = self.encoder(input,states)\n",
        "        encoder_states = [encoder_h, encoder_c]\n",
        "        decoder_output,decoder_h,decoder_c   = self.decoder(output, encoder_states)\n",
        "        output                               = self.dense(decoder_output)\n",
        "        return output\n",
        "        \n",
        "        "
      ],
      "execution_count": null,
      "outputs": []
    },
    {
      "cell_type": "code",
      "metadata": {
        "id": "kcL61dJXLOfB",
        "colab": {
          "base_uri": "https://localhost:8080/"
        },
        "outputId": "1f7c7328-e1eb-4e5e-dc4c-69a864a527eb"
      },
      "source": [
        "%%time\n",
        "#Create an object of encoder_decoder Model class, \n",
        "# Compile the model and fit the model\n",
        "model  = Encoder_Decoder(encoder_inputs_length=20,decoder_inputs_length=20,output_vocab_size=vocab_size_eng)\n",
        "optimizer = tf.keras.optimizers.Adam()\n",
        "model.compile(optimizer=optimizer,loss='sparse_categorical_crossentropy')\n",
        "train_steps=train.shape[0]//1024\n",
        "valid_steps=validation.shape[0]//1024\n",
        "model.fit(train_dataloader, steps_per_epoch=train_steps, epochs=50, validation_data=test_dataloader, validation_steps=valid_steps)\n",
        "model.summary()"
      ],
      "execution_count": null,
      "outputs": [
        {
          "output_type": "stream",
          "text": [
            "Epoch 1/50\n",
            "268/268 [==============================] - 104s 377ms/step - loss: 2.0807 - val_loss: 1.5731\n",
            "Epoch 2/50\n",
            "268/268 [==============================] - 101s 375ms/step - loss: 1.5248 - val_loss: 1.3814\n",
            "Epoch 3/50\n",
            "268/268 [==============================] - 103s 385ms/step - loss: 1.3386 - val_loss: 1.2129\n",
            "Epoch 4/50\n",
            "268/268 [==============================] - 104s 389ms/step - loss: 1.1773 - val_loss: 1.0871\n",
            "Epoch 5/50\n",
            "268/268 [==============================] - 103s 385ms/step - loss: 1.0534 - val_loss: 0.9821\n",
            "Epoch 6/50\n",
            "268/268 [==============================] - 103s 386ms/step - loss: 0.9456 - val_loss: 0.8896\n",
            "Epoch 7/50\n",
            "268/268 [==============================] - 104s 390ms/step - loss: 0.8496 - val_loss: 0.8080\n",
            "Epoch 8/50\n",
            "268/268 [==============================] - 105s 391ms/step - loss: 0.7652 - val_loss: 0.7332\n",
            "Epoch 9/50\n",
            "268/268 [==============================] - 104s 388ms/step - loss: 0.6845 - val_loss: 0.6666\n",
            "Epoch 10/50\n",
            "268/268 [==============================] - 104s 388ms/step - loss: 0.6107 - val_loss: 0.6055\n",
            "Epoch 11/50\n",
            "268/268 [==============================] - 105s 392ms/step - loss: 0.5462 - val_loss: 0.5529\n",
            "Epoch 12/50\n",
            "268/268 [==============================] - 104s 388ms/step - loss: 0.4887 - val_loss: 0.5081\n",
            "Epoch 13/50\n",
            "268/268 [==============================] - 103s 383ms/step - loss: 0.4406 - val_loss: 0.4703\n",
            "Epoch 14/50\n",
            "268/268 [==============================] - 105s 391ms/step - loss: 0.3965 - val_loss: 0.4396\n",
            "Epoch 15/50\n",
            "268/268 [==============================] - 104s 388ms/step - loss: 0.3602 - val_loss: 0.4122\n",
            "Epoch 16/50\n",
            "268/268 [==============================] - 104s 388ms/step - loss: 0.3288 - val_loss: 0.3893\n",
            "Epoch 17/50\n",
            "268/268 [==============================] - 104s 389ms/step - loss: 0.3025 - val_loss: 0.3703\n",
            "Epoch 18/50\n",
            "268/268 [==============================] - 106s 395ms/step - loss: 0.2771 - val_loss: 0.3526\n",
            "Epoch 19/50\n",
            "268/268 [==============================] - 105s 392ms/step - loss: 0.2589 - val_loss: 0.3389\n",
            "Epoch 20/50\n",
            "268/268 [==============================] - 106s 394ms/step - loss: 0.2402 - val_loss: 0.3274\n",
            "Epoch 21/50\n",
            "268/268 [==============================] - 105s 393ms/step - loss: 0.2229 - val_loss: 0.3164\n",
            "Epoch 22/50\n",
            "268/268 [==============================] - 105s 393ms/step - loss: 0.2095 - val_loss: 0.3080\n",
            "Epoch 23/50\n",
            "268/268 [==============================] - 105s 391ms/step - loss: 0.1974 - val_loss: 0.2989\n",
            "Epoch 24/50\n",
            "268/268 [==============================] - 106s 395ms/step - loss: 0.1847 - val_loss: 0.2928\n",
            "Epoch 25/50\n",
            "268/268 [==============================] - 105s 391ms/step - loss: 0.1746 - val_loss: 0.2856\n",
            "Epoch 26/50\n",
            "268/268 [==============================] - 105s 392ms/step - loss: 0.1651 - val_loss: 0.2811\n",
            "Epoch 27/50\n",
            "268/268 [==============================] - 104s 388ms/step - loss: 0.1568 - val_loss: 0.2760\n",
            "Epoch 28/50\n",
            "268/268 [==============================] - 105s 391ms/step - loss: 0.1486 - val_loss: 0.2716\n",
            "Epoch 29/50\n",
            "268/268 [==============================] - 104s 388ms/step - loss: 0.1399 - val_loss: 0.2672\n",
            "Epoch 30/50\n",
            "268/268 [==============================] - 105s 392ms/step - loss: 0.1343 - val_loss: 0.2643\n",
            "Epoch 31/50\n",
            "268/268 [==============================] - 104s 389ms/step - loss: 0.1281 - val_loss: 0.2620\n",
            "Epoch 32/50\n",
            "268/268 [==============================] - 106s 396ms/step - loss: 0.1211 - val_loss: 0.2605\n",
            "Epoch 33/50\n",
            "268/268 [==============================] - 105s 390ms/step - loss: 0.1161 - val_loss: 0.2575\n",
            "Epoch 34/50\n",
            "268/268 [==============================] - 107s 398ms/step - loss: 0.1109 - val_loss: 0.2556\n",
            "Epoch 35/50\n",
            "268/268 [==============================] - 107s 399ms/step - loss: 0.1065 - val_loss: 0.2524\n",
            "Epoch 36/50\n",
            "268/268 [==============================] - 106s 396ms/step - loss: 0.1019 - val_loss: 0.2508\n",
            "Epoch 37/50\n",
            "268/268 [==============================] - 105s 393ms/step - loss: 0.0972 - val_loss: 0.2505\n",
            "Epoch 38/50\n",
            "268/268 [==============================] - 105s 391ms/step - loss: 0.0938 - val_loss: 0.2499\n",
            "Epoch 39/50\n",
            "268/268 [==============================] - 105s 391ms/step - loss: 0.0893 - val_loss: 0.2469\n",
            "Epoch 40/50\n",
            "268/268 [==============================] - 104s 389ms/step - loss: 0.0854 - val_loss: 0.2482\n",
            "Epoch 41/50\n",
            "268/268 [==============================] - 105s 390ms/step - loss: 0.0820 - val_loss: 0.2468\n",
            "Epoch 42/50\n",
            "268/268 [==============================] - 105s 391ms/step - loss: 0.0792 - val_loss: 0.2468\n",
            "Epoch 43/50\n",
            "268/268 [==============================] - 104s 389ms/step - loss: 0.0764 - val_loss: 0.2461\n",
            "Epoch 44/50\n",
            "268/268 [==============================] - 106s 394ms/step - loss: 0.0733 - val_loss: 0.2473\n",
            "Epoch 45/50\n",
            "268/268 [==============================] - 105s 390ms/step - loss: 0.0700 - val_loss: 0.2457\n",
            "Epoch 46/50\n",
            "268/268 [==============================] - 105s 390ms/step - loss: 0.0677 - val_loss: 0.2462\n",
            "Epoch 47/50\n",
            "268/268 [==============================] - 105s 393ms/step - loss: 0.0649 - val_loss: 0.2462\n",
            "Epoch 48/50\n",
            "268/268 [==============================] - 104s 389ms/step - loss: 0.0637 - val_loss: 0.2457\n",
            "Epoch 49/50\n",
            "268/268 [==============================] - 104s 390ms/step - loss: 0.0606 - val_loss: 0.2468\n",
            "Epoch 50/50\n",
            "268/268 [==============================] - 104s 387ms/step - loss: 0.0584 - val_loss: 0.2462\n",
            "Model: \"encoder__decoder_1\"\n",
            "_________________________________________________________________\n",
            "Layer (type)                 Output Shape              Param #   \n",
            "=================================================================\n",
            "encoder_1 (Encoder)          multiple                  2987968   \n",
            "_________________________________________________________________\n",
            "decoder_1 (Decoder)          multiple                  1648168   \n",
            "_________________________________________________________________\n",
            "dense_1 (Dense)              multiple                  3296025   \n",
            "=================================================================\n",
            "Total params: 7,932,161\n",
            "Trainable params: 6,649,561\n",
            "Non-trainable params: 1,282,600\n",
            "_________________________________________________________________\n",
            "CPU times: user 1h 40min 15s, sys: 13min 59s, total: 1h 54min 14s\n",
            "Wall time: 1h 27min 13s\n"
          ],
          "name": "stdout"
        }
      ]
    },
    {
      "cell_type": "code",
      "metadata": {
        "colab": {
          "base_uri": "https://localhost:8080/",
          "height": 194
        },
        "id": "uGnsmFmRNBKt",
        "outputId": "f46ba504-1f31-48d2-d35a-908af216e0b8"
      },
      "source": [
        "prediction_data = validation.sample(1000)\n",
        "prediction_data.head()"
      ],
      "execution_count": null,
      "outputs": [
        {
          "output_type": "execute_result",
          "data": {
            "text/html": [
              "<div>\n",
              "<style scoped>\n",
              "    .dataframe tbody tr th:only-of-type {\n",
              "        vertical-align: middle;\n",
              "    }\n",
              "\n",
              "    .dataframe tbody tr th {\n",
              "        vertical-align: top;\n",
              "    }\n",
              "\n",
              "    .dataframe thead th {\n",
              "        text-align: right;\n",
              "    }\n",
              "</style>\n",
              "<table border=\"1\" class=\"dataframe\">\n",
              "  <thead>\n",
              "    <tr style=\"text-align: right;\">\n",
              "      <th></th>\n",
              "      <th>italian</th>\n",
              "      <th>english_inp</th>\n",
              "      <th>english_out</th>\n",
              "    </tr>\n",
              "  </thead>\n",
              "  <tbody>\n",
              "    <tr>\n",
              "      <th>197862</th>\n",
              "      <td>lasciate che vi prepari un po di caffè</td>\n",
              "      <td>&lt;start&gt; let me make you some coffee</td>\n",
              "      <td>let me make you some coffee &lt;end&gt;</td>\n",
              "    </tr>\n",
              "    <tr>\n",
              "      <th>1517</th>\n",
              "      <td>pagai anticipatamente</td>\n",
              "      <td>&lt;start&gt; i prepaid</td>\n",
              "      <td>i prepaid &lt;end&gt;</td>\n",
              "    </tr>\n",
              "    <tr>\n",
              "      <th>181046</th>\n",
              "      <td>sono sicuro che piacerete a tom</td>\n",
              "      <td>&lt;start&gt; i am sure tom will like you</td>\n",
              "      <td>i am sure tom will like you &lt;end&gt;</td>\n",
              "    </tr>\n",
              "    <tr>\n",
              "      <th>266421</th>\n",
              "      <td>tom ha accompagnato mary nel suo ufficio</td>\n",
              "      <td>&lt;start&gt; tom ushered mary into his office</td>\n",
              "      <td>tom ushered mary into his office &lt;end&gt;</td>\n",
              "    </tr>\n",
              "    <tr>\n",
              "      <th>65309</th>\n",
              "      <td>tom è ancora vivo</td>\n",
              "      <td>&lt;start&gt; tom is still alive</td>\n",
              "      <td>tom is still alive &lt;end&gt;</td>\n",
              "    </tr>\n",
              "  </tbody>\n",
              "</table>\n",
              "</div>"
            ],
            "text/plain": [
              "                                         italian  ...                             english_out\n",
              "197862    lasciate che vi prepari un po di caffè  ...       let me make you some coffee <end>\n",
              "1517                       pagai anticipatamente  ...                         i prepaid <end>\n",
              "181046           sono sicuro che piacerete a tom  ...       i am sure tom will like you <end>\n",
              "266421  tom ha accompagnato mary nel suo ufficio  ...  tom ushered mary into his office <end>\n",
              "65309                          tom è ancora vivo  ...                tom is still alive <end>\n",
              "\n",
              "[5 rows x 3 columns]"
            ]
          },
          "metadata": {
            "tags": []
          },
          "execution_count": 26
        }
      ]
    },
    {
      "cell_type": "code",
      "metadata": {
        "id": "G9TKnMVjNLKs"
      },
      "source": [
        "prediction_data_inps = prediction_data['italian'].values\n"
      ],
      "execution_count": null,
      "outputs": []
    },
    {
      "cell_type": "code",
      "metadata": {
        "id": "SkARSlZgLOfE"
      },
      "source": [
        "def predict(input_sentence):\n",
        "\n",
        "  '''\n",
        "  A. Given input sentence, convert the sentence into integers using tokenizer used earlier\n",
        "  B. Pass the input_sequence to encoder. we get encoder_outputs, last time step hidden and cell state\n",
        "  C. Initialize index of <start> as input to decoder. and encoder final states as input_states to decoder\n",
        "  D. till we reach max_length of decoder or till the model predicted word <end>:\n",
        "         predicted_out,state_h,state_c=model.layers[1](dec_input,states)\n",
        "         pass the predicted_out to the dense layer\n",
        "         update the states=[state_h,state_c]\n",
        "         And get the index of the word with maximum probability of the dense layer output, using the tokenizer(word index) get the word and then store it in a string.\n",
        "         Update the input_to_decoder with current predictions\n",
        "  F. Return the predicted sentence\n",
        "  '''\n",
        "  sentence  = []\n",
        "  \n",
        "  #preprocessing input sentence\n",
        "  input_sentence = input_sentence.split()\n",
        "  input_seq = tknizer_ita.texts_to_sequences([input_sentence])\n",
        "  \n",
        "  input_seq = pad_sequences(input_seq, maxlen=20, dtype='int32', padding='post')\n",
        "  \n",
        "  #input the preprocessed sentence to encoder \n",
        "  batch_size = 1\n",
        "  states = model.layers[0].initialize_states(batch_size)\n",
        "  encoder_out,encoder_h,encoder_c = model.layers[0](input_seq,states)\n",
        "  states = [encoder_h,encoder_c]\n",
        "\n",
        "  #initial input to the decorder\n",
        "  sos_inp = tknizer_eng.texts_to_sequences([['<start>']])\n",
        "  curr_vec = pad_sequences(sos_inp,maxlen=20,dtype='int32', padding='post')\n",
        "  \n",
        "  #predicting the english words\n",
        "  for i in range(20):\n",
        "      try:\n",
        "        curr_embed = model.layers[1].decoder_embed(curr_vec)\n",
        "        [infe_output, state_h, state_c] = model.layers[1].decoder_lstm(curr_embed,states)\n",
        "        infe_output = model.layers[2](infe_output)    \n",
        "        states = [state_h, state_c]\n",
        "        curr_vec = np.reshape(np.argmax(infe_output), (1, 1))\n",
        "        index = np.argmax(infe_output)\n",
        "        if tknizer_eng.index_word[index] == '<end>':\n",
        "            break\n",
        "        else:    \n",
        "            word = tknizer_eng.index_word[index]\n",
        "            sentence.append(word)\n",
        "      except:\n",
        "          continue    \n",
        "      \n",
        "\n",
        "  return sentence"
      ],
      "execution_count": null,
      "outputs": []
    },
    {
      "cell_type": "code",
      "metadata": {
        "id": "996pFO8BLOfG"
      },
      "source": [
        "# Predict on 1000 random sentences on test data and calculate the average BLEU score of these sentences.\n",
        "# https://www.nltk.org/_modules/nltk/translate/bleu_score.html\n",
        "prediction_data_inps = prediction_data['italian'].values\n",
        "prediction_sent_list = []\n",
        "for input_sentence in prediction_data_inps:\n",
        "    prediction_sent_list.append(predict(input_sentence))"
      ],
      "execution_count": null,
      "outputs": []
    },
    {
      "cell_type": "code",
      "metadata": {
        "colab": {
          "base_uri": "https://localhost:8080/"
        },
        "id": "iT65twgdCbve",
        "outputId": "6b0d30ef-a798-45b1-d71b-f0ba23cb79ec"
      },
      "source": [
        "prediction_sent_list[:5]"
      ],
      "execution_count": null,
      "outputs": [
        {
          "output_type": "execute_result",
          "data": {
            "text/plain": [
              "[[],\n",
              " ['i', 'prepaid'],\n",
              " ['i', 'am', 'sure', 'tom', 'will', 'like', 'you'],\n",
              " [],\n",
              " []]"
            ]
          },
          "metadata": {
            "tags": []
          },
          "execution_count": 30
        }
      ]
    },
    {
      "cell_type": "code",
      "metadata": {
        "id": "UuY5xr7IWdgr"
      },
      "source": [
        "prediction_eng_inps = prediction_data['english_inp'].values"
      ],
      "execution_count": null,
      "outputs": []
    },
    {
      "cell_type": "code",
      "metadata": {
        "colab": {
          "base_uri": "https://localhost:8080/"
        },
        "id": "SGNEFw6UXEPh",
        "outputId": "f804e0ef-19d8-43b4-cd52-b61e0d45149b"
      },
      "source": [
        "prediction_eng_inps[:5]"
      ],
      "execution_count": null,
      "outputs": [
        {
          "output_type": "execute_result",
          "data": {
            "text/plain": [
              "array(['<start> let me make you some coffee', '<start> i prepaid',\n",
              "       '<start> i am sure tom will like you',\n",
              "       '<start> tom ushered mary into his office',\n",
              "       '<start> tom is still alive'], dtype=object)"
            ]
          },
          "metadata": {
            "tags": []
          },
          "execution_count": 32
        }
      ]
    },
    {
      "cell_type": "code",
      "metadata": {
        "colab": {
          "base_uri": "https://localhost:8080/"
        },
        "id": "y4u5Dhk1XUOp",
        "outputId": "621f486d-04ee-4352-bfe3-8424d396c2e8"
      },
      "source": [
        "eng_inps = []\r\n",
        "for i in prediction_eng_inps:\r\n",
        "    sent = []\r\n",
        "    for j in i.split():\r\n",
        "        if j!= '<start>':\r\n",
        "            sent.append(j)\r\n",
        "    eng_inps.append(sent)\r\n",
        "    \r\n",
        "eng_inps[:5]"
      ],
      "execution_count": null,
      "outputs": [
        {
          "output_type": "execute_result",
          "data": {
            "text/plain": [
              "[['let', 'me', 'make', 'you', 'some', 'coffee'],\n",
              " ['i', 'prepaid'],\n",
              " ['i', 'am', 'sure', 'tom', 'will', 'like', 'you'],\n",
              " ['tom', 'ushered', 'mary', 'into', 'his', 'office'],\n",
              " ['tom', 'is', 'still', 'alive']]"
            ]
          },
          "metadata": {
            "tags": []
          },
          "execution_count": 33
        }
      ]
    },
    {
      "cell_type": "code",
      "metadata": {
        "id": "AZMb11SRLA5R"
      },
      "source": [
        "import nltk.translate.bleu_score as bleu\r\n",
        "blue_score = []\r\n",
        "for i in range(len(prediction_sent_list)):\r\n",
        "    blue_score.append(bleu.sentence_bleu([eng_inps[i]], prediction_sent_list[i]))"
      ],
      "execution_count": null,
      "outputs": []
    },
    {
      "cell_type": "code",
      "metadata": {
        "colab": {
          "base_uri": "https://localhost:8080/"
        },
        "id": "Kby00Rtw1zxW",
        "outputId": "b3e4c294-e507-4f8f-c824-d489ba94c027"
      },
      "source": [
        "#Average Blue Score\r\n",
        "print('avg_blue_score ',(sum(blue_score)/len(blue_score)))"
      ],
      "execution_count": null,
      "outputs": [
        {
          "output_type": "stream",
          "text": [
            "avg_blue_score  0.5858630324148351\n"
          ],
          "name": "stdout"
        }
      ]
    },
    {
      "cell_type": "markdown",
      "metadata": {
        "id": "yZhX3K9GLOfJ"
      },
      "source": [
        "## Task -2: Including Attention mechanisum"
      ]
    },
    {
      "cell_type": "code",
      "metadata": {
        "id": "q-Sh1imU1rCY"
      },
      "source": [
        "import matplotlib.pyplot as plt\n",
        "%matplotlib inline\n",
        "# import seaborn as sns\n",
        "import pandas as pd\n",
        "import re\n",
        "import tensorflow as tf\n",
        "from tensorflow.keras.layers import Input, Softmax, RNN, Dense, Embedding, LSTM,LSTMCell\n",
        "from tensorflow.keras.models import Model\n",
        "from tensorflow.keras.preprocessing.text import Tokenizer\n",
        "from tensorflow.keras.preprocessing.sequence import pad_sequences\n",
        "import numpy as np\n",
        "import nltk.translate.bleu_score as bleu\n",
        "import warnings\n",
        "warnings.filterwarnings('ignore')"
      ],
      "execution_count": null,
      "outputs": []
    },
    {
      "cell_type": "markdown",
      "metadata": {
        "id": "PU4KIsGxLOfK"
      },
      "source": [
        "### <font color='yellow'>**Implement custom encoder decoder and attention layers**</font>"
      ]
    },
    {
      "cell_type": "markdown",
      "metadata": {
        "id": "TMm3ADQDLOfK"
      },
      "source": [
        "<font color='gree'>**Encoder**</font>"
      ]
    },
    {
      "cell_type": "code",
      "metadata": {
        "id": "Lx_5NA24KzRp"
      },
      "source": [
        "class Encoder(tf.keras.Model):\n",
        "    '''\n",
        "    Encoder model -- That takes a input sequence and returns output sequence\n",
        "    '''\n",
        "\n",
        "    def __init__(self,inp_vocab_size,embedding_size,lstm_size,input_length):\n",
        "        #intializing parameters\n",
        "        super().__init__()\n",
        "        self.inp_vocab_size = inp_vocab_size\n",
        "        self.embedding_size = embedding_size\n",
        "        self.lstm_size = lstm_size\n",
        "        self.input_length = input_length\n",
        "        self.lstm_output = 0\n",
        "\n",
        "        #Initialize Embedding layer\n",
        "        self.encoder_embedding = Embedding(input_dim = self.inp_vocab_size,output_dim = self.embedding_size,input_length = self.input_length,\n",
        "                                           mask_zero = True,name = 'Embedding_Layer_Encoder' )\n",
        "        #Intialize Encoder LSTM layer\n",
        "        self.lstmcell = tf.keras.layers.LSTMCell(self.lstm_size)\n",
        "        self.encoder_lstm = RNN(self.lstmcell,return_sequences=True, return_state=True)\n",
        "\n",
        "    def call(self,input_sequence,states):\n",
        "        '''\n",
        "          This function takes a sequence input and the initial states of the encoder.\n",
        "          Pass the input_sequence input to the Embedding layer, Pass the embedding layer ouput to encoder_lstm\n",
        "          returns -- All encoder_outputs, last time steps hidden and cell state\n",
        "        '''\n",
        "        input_embedding = self.encoder_embedding(input_sequence)\n",
        "        self.lstm_output,self.lstm_state_h,self.lstm_state_c = self.encoder_lstm(input_embedding)\n",
        "        return self.lstm_output,self.lstm_state_h,self.lstm_state_c\n",
        "    \n",
        "    def initialize_states(self,batch_size):\n",
        "        '''\n",
        "        Given a batch size it will return intial hidden state and intial cell state.\n",
        "        If batch size is 32- Hidden state is zeros of size [32,lstm_units], cell state zeros is of size [32,lstm_units]\n",
        "        '''\n",
        "        self.lstm_state_h = tf.random.uniform(shape=[batch_size,self.lstm_size],dtype=tf.float32)\n",
        "        self.lstm_state_c = tf.random.uniform(shape=[batch_size,self.lstm_size],dtype=tf.float32)\n",
        "        states = [self.lstm_state_h,self.lstm_state_c]\n",
        "        return states\n"
      ],
      "execution_count": null,
      "outputs": []
    },
    {
      "cell_type": "markdown",
      "metadata": {
        "id": "4ub9aN-hK244"
      },
      "source": [
        "<font color='cyan'>**Grader function - 1**</font>"
      ]
    },
    {
      "cell_type": "code",
      "metadata": {
        "colab": {
          "base_uri": "https://localhost:8080/"
        },
        "id": "b1P1oHAsqN0p",
        "outputId": "0278edcf-b61e-4954-c309-16ce5173f479"
      },
      "source": [
        "#my results\n",
        "def grader_check_encoder():\n",
        "    \n",
        "    '''\n",
        "        vocab-size: Unique words of the input language,\n",
        "        embedding_size: output embedding dimension for each word after embedding layer,\n",
        "        lstm_size: Number of lstm units in encoder,\n",
        "        input_length: Length of the input sentence,\n",
        "        batch_size\n",
        "    '''\n",
        "    \n",
        "    vocab_size=10\n",
        "    embedding_size=20\n",
        "    lstm_size=32\n",
        "    input_length=10\n",
        "    batch_size=16\n",
        "    encoder=Encoder(vocab_size,embedding_size,lstm_size,input_length)\n",
        "    input_sequence=tf.random.uniform(shape=[batch_size,input_length],maxval=vocab_size,minval=0,dtype=tf.int32)\n",
        "    initial_state=encoder.initialize_states(batch_size)\n",
        "    encoder_output,state_h,state_c=encoder(input_sequence,initial_state)\n",
        "    assert(encoder_output.shape==(batch_size,input_length,lstm_size) and state_h.shape==(batch_size,lstm_size) and state_c.shape==(batch_size,lstm_size))\n",
        "    return True\n",
        "print(grader_check_encoder())"
      ],
      "execution_count": null,
      "outputs": [
        {
          "output_type": "stream",
          "text": [
            "True\n"
          ],
          "name": "stdout"
        }
      ]
    },
    {
      "cell_type": "markdown",
      "metadata": {
        "id": "lXn278lhLYRM"
      },
      "source": [
        "<font color='DarkTurquoise'>**Attention**</font>"
      ]
    },
    {
      "cell_type": "code",
      "metadata": {
        "id": "ab5SNdPZLlur"
      },
      "source": [
        "class Attention(tf.keras.layers.Layer):\n",
        "  '''\n",
        "    Class the calculates score based on the scoring_function using Bahdanu attention mechanism.\n",
        "  '''\n",
        "  def __init__(self,scoring_fun, att_units):\n",
        "    super().__init__()\n",
        "    self.scoring_fun = scoring_fun\n",
        "    self.att_units = att_units\n",
        "\n",
        "    if self.scoring_fun=='dot':\n",
        "      # Intialize variables needed for Dot score function here\n",
        "      pass\n",
        "    if self.scoring_fun == 'general':\n",
        "      # Intialize variables needed for General score function here\n",
        "      self.weight_mtx = Dense(self.att_units)\n",
        "      \n",
        "    elif self.scoring_fun == 'concat':\n",
        "      # Intialize variables needed for Concat score function here\n",
        "      self.weight_mtx1 = Dense(self.att_units)\n",
        "      self.weight_mtx2 = Dense(self.att_units)\n",
        "      self.vec = Dense(1)\n",
        "      pass\n",
        "  \n",
        "  \n",
        "  def call(self,decoder_hidden_state,encoder_output):\n",
        "    '''\n",
        "      Attention mechanism takes two inputs current step -- decoder_hidden_state and all the encoder_outputs.\n",
        "      * Based on the scoring function we will find the score or similarity between decoder_hidden_state and encoder_output.\n",
        "        Multiply the score function with your encoder_outputs to get the context vector.\n",
        "        Function returns context vector and attention weights(softmax - scores)\n",
        "    '''\n",
        "    \n",
        "    if self.scoring_fun == 'dot':\n",
        "        # Implement Dot score function here\n",
        "        #for dot layer number of hidden units are same\n",
        "        hidden_state = tf.expand_dims(decoder_hidden_state,1)\n",
        "        \n",
        "        score = tf.keras.layers.Dot(axes=(2,2))([encoder_output,hidden_state])   #(batch_size,1,hidden_units_d)*(batch_size,input_length,hidden_unit_e)\n",
        "        \n",
        "        attention_weights = tf.nn.softmax(score,axis = 1)\n",
        "        #print('attention_weights shape',attention_weights.shape)\n",
        "        context_vector = tf.keras.layers.Dot(axes=(1,1))([attention_weights,encoder_output])\n",
        "\n",
        "        context_vector =tf.reduce_sum(context_vector,axis = 1)\n",
        "        #print('context vector shape',context_vector.shape)\n",
        "        return context_vector,attention_weights\n",
        "\n",
        "    elif self.scoring_fun == 'general':\n",
        "        # Implement General score function here\n",
        "        #print('shape of weight mtx',self.weight_mtx.output_shape)\n",
        "        hidden_state = tf.expand_dims(decoder_hidden_state,1)\n",
        "        #print('shape of encoder output',encoder_output.shape)\n",
        "        score = self.weight_mtx(encoder_output)\n",
        "        #print('score shape after first multiplication',score.shape)\n",
        "        score = tf.keras.layers.Dot(axes = (2,2))([score,hidden_state])\n",
        "        #print('score shape after second multiplication',score.shape)\n",
        "        attention_weights = tf.nn.softmax(score,axis = 1)\n",
        "        #print('attention_weights shape general',attention_weights.shape)\n",
        "        context_vector = attention_weights*encoder_output\n",
        "\n",
        "        context_vector =tf.reduce_sum(context_vector,axis = 1)\n",
        "        #print('context_vector shape general',context_vector.shape)\n",
        "        return context_vector,attention_weights\n",
        "    elif self.scoring_fun == 'concat':\n",
        "        # Implement General score function here\n",
        "        hidden_state = tf.expand_dims(decoder_hidden_state,1)\n",
        " \n",
        "        score = self.vec(tf.nn.tanh(self.weight_mtx1(encoder_output)+ self.weight_mtx2(hidden_state)))\n",
        "\n",
        "        attention_weights = tf.nn.softmax(score,axis = 1)\n",
        "        #print('attention_weights shape concat',attention_weights.shape)\n",
        "        context_vector = attention_weights*encoder_output\n",
        "\n",
        "        context_vector =tf.reduce_sum(context_vector,axis = 1)\n",
        "        #print('context_vector shape concat',context_vector.shape)\n",
        "        return context_vector,attention_weights\n",
        "    \n",
        "    "
      ],
      "execution_count": null,
      "outputs": []
    },
    {
      "cell_type": "markdown",
      "metadata": {
        "id": "ExQDlxI9LuqK"
      },
      "source": [
        "<font color='cyan'>**Grader function - 2**</font>"
      ]
    },
    {
      "cell_type": "code",
      "metadata": {
        "colab": {
          "base_uri": "https://localhost:8080/"
        },
        "id": "XQIajUjvH2RN",
        "outputId": "0804238f-25ce-41d0-c900-7e52ba4b5e37"
      },
      "source": [
        "#my results\n",
        "def grader_check_attention(scoring_fun):\n",
        "    \n",
        "    ''' \n",
        "        att_units: Used in matrix multiplications for scoring functions,\n",
        "        input_length: Length of the input sentence,\n",
        "        batch_size\n",
        "    '''\n",
        "    \n",
        "    input_length=10\n",
        "    batch_size=16\n",
        "    att_units=32\n",
        "    \n",
        "    state_h=tf.random.uniform(shape=[batch_size,att_units])\n",
        "    encoder_output=tf.random.uniform(shape=[batch_size,input_length,att_units])\n",
        "    attention=Attention(scoring_fun,att_units)\n",
        "    context_vector,attention_weights=attention(state_h,encoder_output)\n",
        "    assert(context_vector.shape==(batch_size,att_units) and attention_weights.shape==(batch_size,input_length,1))\n",
        "    return True\n",
        "print(grader_check_attention('dot'))\n",
        "print(grader_check_attention('general'))\n",
        "print(grader_check_attention('concat'))"
      ],
      "execution_count": null,
      "outputs": [
        {
          "output_type": "stream",
          "text": [
            "True\n",
            "True\n",
            "True\n"
          ],
          "name": "stdout"
        }
      ]
    },
    {
      "cell_type": "markdown",
      "metadata": {
        "id": "ic-FNEbfL2DN"
      },
      "source": [
        "<font color='DodgerBlue'>**OneStepDecoder**</font>"
      ]
    },
    {
      "cell_type": "code",
      "metadata": {
        "id": "Kc8m7lmOL097"
      },
      "source": [
        "class OneStepDecoder(tf.keras.Model):\n",
        "  def __init__(self,tar_vocab_size, embedding_dim, input_length, dec_units ,score_fun ,att_units):\n",
        "\n",
        "    # Initialize decoder embedding layer, LSTM and any other objects needed\n",
        "    super().__init__()  \n",
        "    self.tar_vocab_size = tar_vocab_size\n",
        "    self.embedding_dim = embedding_dim\n",
        "    self.input_length = input_length\n",
        "    self.dec_units = dec_units\n",
        "    self.score_fun = score_fun\n",
        "    self.att_units = att_units\n",
        "    self.attention = Attention(self.score_fun,self.att_units)\n",
        "    self.decoder_embedding = Embedding(input_dim=self.tar_vocab_size,output_dim=self.embedding_dim,input_length=self.input_length)\n",
        "    self.lstmcell = tf.keras.layers.LSTMCell(self.dec_units)\n",
        "    self.OSD_lstm = RNN(self.lstmcell,return_sequences=True, return_state=True)\n",
        "    self.OSD_Dense = Dense(self.tar_vocab_size)\n",
        "    \n",
        "\n",
        "\n",
        "\n",
        "  def call(self,input_to_decoder, encoder_output, state_h,state_c):\n",
        "    '''\n",
        "        One step decoder mechanisim step by step:\n",
        "      A. Pass the input_to_decoder to the embedding layer and then get the output(batch_size,1,embedding_dim)\n",
        "      B. Using the encoder_output and decoder hidden state, compute the context vector.\n",
        "      C. Concat the context vector with the step A output\n",
        "      D. Pass the Step-C output to LSTM/GRU and get the decoder output and states(hidden and cell state)\n",
        "      E. Pass the decoder output to dense layer(vocab size) and store the result into output.\n",
        "      F. Return the states from step D, output from Step E, attention weights from Step -B\n",
        "    '''\n",
        "    input_to_decoder = self.decoder_embedding(input_to_decoder)\n",
        "    #print('input_to_decoder shape',input_to_decoder.shape)\n",
        "    #print('state_h shape',state_h.shape)\n",
        "    #print('state_c shape',state_c.shape)\n",
        "    #print('encoder_output shape',encoder_output.shape)\n",
        "    \n",
        "    context_vector,attention_weights = self.attention(state_h,encoder_output)\n",
        "    #print('context vector shape',context_vector.shape)\n",
        "    #print('input to decorder shaper before concat',input_to_decoder.shape)\n",
        "    concat = tf.concat([tf.expand_dims(context_vector,1),input_to_decoder],axis=-1)\n",
        "    #print('concat shape',concat.shape)\n",
        "    decoder_output,state_h,state_c = self.OSD_lstm(concat,[state_h,state_c])\n",
        "    decoder_output = tf.reshape(decoder_output,shape=(-1,decoder_output.shape[2]))\n",
        "    output = self.OSD_Dense(decoder_output)\n",
        "    #output = tf.reshape(output,shape=(-1,output.shape[2]))\n",
        "    #print('output shape',output.shape)\n",
        "    return output,state_h,state_c,attention_weights\n",
        "\n",
        "\n",
        "\n"
      ],
      "execution_count": null,
      "outputs": []
    },
    {
      "cell_type": "markdown",
      "metadata": {
        "id": "R_I8I4EIMAXq"
      },
      "source": [
        "<font color='cyan'>**Grader function - 3**</font>"
      ]
    },
    {
      "cell_type": "code",
      "metadata": {
        "colab": {
          "base_uri": "https://localhost:8080/"
        },
        "id": "WbprxzxrhcDr",
        "outputId": "0d5569f0-3bf0-48e9-a828-5e8e9d51b8e2"
      },
      "source": [
        "#my result\r\n",
        "def grader_onestepdecoder(score_fun):\r\n",
        "    \r\n",
        "    '''\r\n",
        "        tar_vocab_size: Unique words of the target language,\r\n",
        "        embedding_dim: output embedding dimension for each word after embedding layer,\r\n",
        "        dec_units: Number of lstm units in decoder,\r\n",
        "        att_units: Used in matrix multiplications for scoring functions in attention class,\r\n",
        "        input_length: Length of the target sentence,\r\n",
        "        batch_size\r\n",
        "        \r\n",
        "    \r\n",
        "    '''\r\n",
        "    \r\n",
        "    tar_vocab_size=13 \r\n",
        "    embedding_dim=12 \r\n",
        "    input_length=10\r\n",
        "    dec_units=16 \r\n",
        "    att_units=16\r\n",
        "    batch_size=32\r\n",
        "    onestepdecoder=OneStepDecoder(tar_vocab_size, embedding_dim, input_length, dec_units ,score_fun ,att_units)\r\n",
        "    input_to_decoder=tf.random.uniform(shape=(batch_size,1),maxval=10,minval=0,dtype=tf.int32)\r\n",
        "    encoder_output=tf.random.uniform(shape=[batch_size,input_length,dec_units])\r\n",
        "    state_h=tf.random.uniform(shape=[batch_size,dec_units])\r\n",
        "    state_c=tf.random.uniform(shape=[batch_size,dec_units])\r\n",
        "    output,state_h,state_c,attention_weights,context_vector=onestepdecoder(input_to_decoder,encoder_output,state_h,state_c)\r\n",
        "    assert(output.shape==(batch_size,tar_vocab_size))\r\n",
        "    assert(state_h.shape==(batch_size,dec_units))\r\n",
        "    assert(state_c.shape==(batch_size,dec_units))\r\n",
        "    assert(attention_weights.shape==(batch_size,input_length,1))\r\n",
        "    assert(context_vector.shape==(batch_size,dec_units))\r\n",
        "    return True\r\n",
        "    \r\n",
        "print(grader_onestepdecoder('dot'))\r\n",
        "print(grader_onestepdecoder('general'))\r\n",
        "print(grader_onestepdecoder('concat'))"
      ],
      "execution_count": null,
      "outputs": [
        {
          "output_type": "stream",
          "text": [
            "True\n",
            "True\n",
            "True\n"
          ],
          "name": "stdout"
        }
      ]
    },
    {
      "cell_type": "markdown",
      "metadata": {
        "id": "6FHrurjUMGAi"
      },
      "source": [
        "<font color='DeepPink'>**Decoder**</font>"
      ]
    },
    {
      "cell_type": "code",
      "metadata": {
        "id": "NV-x31rj6Hc4"
      },
      "source": [
        "class Decoder(tf.keras.Model):\n",
        "    def __init__(self,out_vocab_size, embedding_dim, input_length, dec_units ,score_fun ,att_units):\n",
        "      #Intialize necessary variables and create an object from the class onestepdecoder\n",
        "      super(Decoder,self).__init__()\n",
        "      self.out_vocab_size = out_vocab_size\n",
        "      self.embedding_dim = embedding_dim\n",
        "      self.input_length = input_length\n",
        "      self.dec_units = dec_units\n",
        "      self.score_fun = score_fun\n",
        "      self.att_units = att_units\n",
        "      self.onestepdecoder = OneStepDecoder(self.out_vocab_size,self.embedding_dim,self.input_length,self.dec_units,self.score_fun,self.att_units)\n",
        "\n",
        "        \n",
        "    def call(self, input_to_decoder,encoder_output,decoder_hidden_state,decoder_cell_state ):\n",
        "\n",
        "        #Initialize an empty Tensor array, that will store the outputs at each and every time step\n",
        "        all_outputs = tf.TensorArray(tf.float32,size = 20,name = 'Output_Arrays')\n",
        "        #Create a tensor array as shown in the reference notebook\n",
        "        \n",
        "        #Iterate till the length of the decoder input\n",
        "        for timesteps in range(20):\n",
        "\n",
        "            output,decoder_hidden_state,decoder_cell_state,attention_weights = self.onestepdecoder(input_to_decoder[:,timesteps:timesteps+1],encoder_output,decoder_hidden_state,decoder_cell_state)\n",
        "            # Call onestepdecoder for each token in decoder_input\n",
        "            # Store the output in tensorarray\n",
        "            all_outputs = all_outputs.write(timesteps,output)\n",
        "        all_outputs = tf.transpose(all_outputs.stack(),[1,0,2])    \n",
        "        # Return the tensor array\n",
        "        return all_outputs\n",
        "        \n",
        "        \n",
        "    "
      ],
      "execution_count": null,
      "outputs": []
    },
    {
      "cell_type": "markdown",
      "metadata": {
        "id": "FxrL-P8bMJH6"
      },
      "source": [
        "<font color='cyan'>**Grader function - 4**</font>"
      ]
    },
    {
      "cell_type": "code",
      "metadata": {
        "colab": {
          "base_uri": "https://localhost:8080/"
        },
        "id": "_Nb7XloYuH-1",
        "outputId": "9e6d879e-b0d4-4067-baae-634f39752a0c"
      },
      "source": [
        "#my result\r\n",
        "def grader_decoder(score_fun):\r\n",
        "    \r\n",
        "    '''\r\n",
        "        out_vocab_size: Unique words of the target language,\r\n",
        "        embedding_dim: output embedding dimension for each word after embedding layer,\r\n",
        "        dec_units: Number of lstm units in decoder,\r\n",
        "        att_units: Used in matrix multiplications for scoring functions in attention class,\r\n",
        "        input_length: Length of the target sentence,\r\n",
        "        batch_size\r\n",
        "        \r\n",
        "    \r\n",
        "    '''\r\n",
        "    \r\n",
        "    out_vocab_size=13 \r\n",
        "    embedding_dim=12 \r\n",
        "    input_length=11\r\n",
        "    dec_units=16 \r\n",
        "    att_units=16\r\n",
        "    batch_size=32\r\n",
        "    \r\n",
        "    target_sentences=tf.random.uniform(shape=(batch_size,input_length),maxval=10,minval=0,dtype=tf.int32)\r\n",
        "    encoder_output=tf.random.uniform(shape=[batch_size,input_length,dec_units])\r\n",
        "    state_h=tf.random.uniform(shape=[batch_size,dec_units])\r\n",
        "    state_c=tf.random.uniform(shape=[batch_size,dec_units])\r\n",
        "    \r\n",
        "    decoder=Decoder(out_vocab_size, embedding_dim, input_length, dec_units ,score_fun ,att_units)\r\n",
        "    output=decoder(target_sentences,encoder_output, state_h, state_c)\r\n",
        "    assert(output.shape==(batch_size,input_length,out_vocab_size))\r\n",
        "    return True\r\n",
        "print(grader_decoder('dot'))\r\n",
        "print(grader_decoder('general'))\r\n",
        "print(grader_decoder('concat'))"
      ],
      "execution_count": null,
      "outputs": [
        {
          "output_type": "stream",
          "text": [
            "True\n",
            "True\n",
            "True\n"
          ],
          "name": "stdout"
        }
      ]
    },
    {
      "cell_type": "markdown",
      "metadata": {
        "id": "aP6WBlnkFYEx"
      },
      "source": [
        "# <font color='Red'>**Model-2**</font>"
      ]
    },
    {
      "cell_type": "markdown",
      "metadata": {
        "id": "fC1T1EOoMTqC"
      },
      "source": [
        "<font color='MediumSpringGreen'>**Encoder Decoder model**</font>"
      ]
    },
    {
      "cell_type": "code",
      "metadata": {
        "id": "FfqBIe20MT3D"
      },
      "source": [
        "class Encoder_Decoder(tf.keras.Model):\n",
        "  def __init__(self,encoder_inputs_length,decoder_inputs_length, output_vocab_size):\n",
        "    #Intialize objects from encoder decoder\n",
        "    super().__init__() \n",
        "    #create encoder object\n",
        "    self.encoder = Encoder(inp_vocab_size=vocab_size_ita+1, embedding_size=200, input_length=encoder_inputs_length, lstm_size=256)\n",
        "    #create decoder object\n",
        "    self.decoder = Decoder(out_vocab_size=vocab_size_eng+1, embedding_dim=200, input_length=decoder_inputs_length,dec_units = 256,score_fun = 'dot',att_units=256)\n",
        "  \n",
        "  def call(self,data):\n",
        "    #Intialize encoder states, Pass the encoder_sequence to the embedding layer\n",
        "    # Decoder initial states are encoder final states, Initialize it accordingly\n",
        "    # Pass the decoder sequence,encoder_output,decoder states to Decoder\n",
        "    # return the decoder output\n",
        "    input,output = data[0], data[1]\n",
        "    batch_size = 1024\n",
        "    states                               = self.encoder.initialize_states(batch_size)\n",
        "    encoder_output, encoder_h, encoder_c = self.encoder(input,states)\n",
        "    encoder_states                       = [encoder_h, encoder_c]\n",
        "    decoder_hidden_state                 = encoder_h\n",
        "    decoder_cell_state                   = encoder_c\n",
        "    decoder_output                       = self.decoder(output, encoder_output,decoder_hidden_state,decoder_cell_state)\n",
        "    return decoder_output\n",
        "\n"
      ],
      "execution_count": null,
      "outputs": []
    },
    {
      "cell_type": "markdown",
      "metadata": {
        "id": "WVRxB-FDMJWL"
      },
      "source": [
        "<font color='Moccasin'>**Custom loss function**</font>"
      ]
    },
    {
      "cell_type": "code",
      "metadata": {
        "id": "QY_3izrXMs8y"
      },
      "source": [
        "optimizer = tf.keras.optimizers.Adam()\n",
        "loss_object = tf.keras.losses.SparseCategoricalCrossentropy(from_logits=True, reduction='none')\n",
        "def custom_lossfunction(targets,logits):\n",
        "  # Custom loss function that will not consider the loss for padded zeros.\n",
        "  mask = tf.math.logical_not(tf.math.equal(targets, 0))\n",
        "  loss_ = loss_object(targets, logits)\n",
        "\n",
        "  mask = tf.cast(mask, dtype=loss_.dtype)\n",
        "  loss_ *= mask\n",
        "\n",
        "  return tf.reduce_mean(loss_)\n",
        "\n"
      ],
      "execution_count": null,
      "outputs": []
    },
    {
      "cell_type": "markdown",
      "metadata": {
        "id": "2QlbWAqNNlqe"
      },
      "source": [
        "## <font color='Teal'>**Training Dot Function**</font>"
      ]
    },
    {
      "cell_type": "code",
      "metadata": {
        "id": "H4_CVdQjn3Zq"
      },
      "source": [
        "checkpoint_path = \"Attention_dot_model/w1.ckpt\"\r\n",
        "checkpoint_dir = os.path.dirname(checkpoint_path)\r\n",
        "\r\n",
        "# Create a callback that saves the model's weights\r\n",
        "cp_callback = tf.keras.callbacks.ModelCheckpoint(filepath=checkpoint_path,\r\n",
        "                                                 save_weights_only=True,\r\n",
        "                                                 verbose=1)\r\n"
      ],
      "execution_count": null,
      "outputs": []
    },
    {
      "cell_type": "code",
      "metadata": {
        "id": "FHYpYpvIC391",
        "colab": {
          "base_uri": "https://localhost:8080/"
        },
        "outputId": "08978b24-fdbf-4c24-b692-4384597f90d4"
      },
      "source": [
        "%%time\r\n",
        "#Create an object of encoder_decoder Model class, \r\n",
        "# Compile the model and fit the model\r\n",
        "model  = Encoder_Decoder(encoder_inputs_length=20,decoder_inputs_length=20,output_vocab_size=vocab_size_eng)\r\n",
        "model.compile(optimizer=optimizer,loss=custom_lossfunction)\r\n",
        "train_steps=train.shape[0]//1024\r\n",
        "valid_steps=validation.shape[0]//1024\r\n",
        "model.fit(train_dataloader, steps_per_epoch=train_steps, epochs=40, validation_data=test_dataloader, validation_steps=valid_steps,callbacks=[cp_callback])\r\n",
        "model.summary()"
      ],
      "execution_count": null,
      "outputs": [
        {
          "output_type": "stream",
          "text": [
            "Epoch 1/40\n",
            "268/268 [==============================] - 149s 479ms/step - loss: 2.1207 - val_loss: 1.6204\n",
            "\n",
            "Epoch 00001: saving model to Attention_dot_model/w1.ckpt\n",
            "Epoch 2/40\n",
            "268/268 [==============================] - 128s 478ms/step - loss: 1.5843 - val_loss: 1.4063\n",
            "\n",
            "Epoch 00002: saving model to Attention_dot_model/w1.ckpt\n",
            "Epoch 3/40\n",
            "268/268 [==============================] - 128s 479ms/step - loss: 1.3462 - val_loss: 1.1697\n",
            "\n",
            "Epoch 00003: saving model to Attention_dot_model/w1.ckpt\n",
            "Epoch 4/40\n",
            "268/268 [==============================] - 130s 486ms/step - loss: 1.1172 - val_loss: 0.9914\n",
            "\n",
            "Epoch 00004: saving model to Attention_dot_model/w1.ckpt\n",
            "Epoch 5/40\n",
            "268/268 [==============================] - 130s 485ms/step - loss: 0.9388 - val_loss: 0.8326\n",
            "\n",
            "Epoch 00005: saving model to Attention_dot_model/w1.ckpt\n",
            "Epoch 6/40\n",
            "268/268 [==============================] - 132s 492ms/step - loss: 0.7791 - val_loss: 0.7050\n",
            "\n",
            "Epoch 00006: saving model to Attention_dot_model/w1.ckpt\n",
            "Epoch 7/40\n",
            "268/268 [==============================] - 131s 489ms/step - loss: 0.6488 - val_loss: 0.6023\n",
            "\n",
            "Epoch 00007: saving model to Attention_dot_model/w1.ckpt\n",
            "Epoch 8/40\n",
            "268/268 [==============================] - 131s 487ms/step - loss: 0.5422 - val_loss: 0.5196\n",
            "\n",
            "Epoch 00008: saving model to Attention_dot_model/w1.ckpt\n",
            "Epoch 9/40\n",
            "268/268 [==============================] - 132s 491ms/step - loss: 0.4547 - val_loss: 0.4522\n",
            "\n",
            "Epoch 00009: saving model to Attention_dot_model/w1.ckpt\n",
            "Epoch 10/40\n",
            "268/268 [==============================] - 132s 492ms/step - loss: 0.3844 - val_loss: 0.4007\n",
            "\n",
            "Epoch 00010: saving model to Attention_dot_model/w1.ckpt\n",
            "Epoch 11/40\n",
            "268/268 [==============================] - 132s 491ms/step - loss: 0.3280 - val_loss: 0.3605\n",
            "\n",
            "Epoch 00011: saving model to Attention_dot_model/w1.ckpt\n",
            "Epoch 12/40\n",
            "268/268 [==============================] - 131s 490ms/step - loss: 0.2814 - val_loss: 0.3296\n",
            "\n",
            "Epoch 00012: saving model to Attention_dot_model/w1.ckpt\n",
            "Epoch 13/40\n",
            "268/268 [==============================] - 132s 492ms/step - loss: 0.2440 - val_loss: 0.3054\n",
            "\n",
            "Epoch 00013: saving model to Attention_dot_model/w1.ckpt\n",
            "Epoch 14/40\n",
            "268/268 [==============================] - 132s 491ms/step - loss: 0.2138 - val_loss: 0.2845\n",
            "\n",
            "Epoch 00014: saving model to Attention_dot_model/w1.ckpt\n",
            "Epoch 15/40\n",
            "268/268 [==============================] - 131s 488ms/step - loss: 0.1884 - val_loss: 0.2693\n",
            "\n",
            "Epoch 00015: saving model to Attention_dot_model/w1.ckpt\n",
            "Epoch 16/40\n",
            "268/268 [==============================] - 131s 488ms/step - loss: 0.1695 - val_loss: 0.2558\n",
            "\n",
            "Epoch 00016: saving model to Attention_dot_model/w1.ckpt\n",
            "Epoch 17/40\n",
            "268/268 [==============================] - 131s 488ms/step - loss: 0.1516 - val_loss: 0.2441\n",
            "\n",
            "Epoch 00017: saving model to Attention_dot_model/w1.ckpt\n",
            "Epoch 18/40\n",
            "268/268 [==============================] - 131s 488ms/step - loss: 0.1361 - val_loss: 0.2353\n",
            "\n",
            "Epoch 00018: saving model to Attention_dot_model/w1.ckpt\n",
            "Epoch 19/40\n",
            "268/268 [==============================] - 130s 483ms/step - loss: 0.1236 - val_loss: 0.2282\n",
            "\n",
            "Epoch 00019: saving model to Attention_dot_model/w1.ckpt\n",
            "Epoch 20/40\n",
            "268/268 [==============================] - 131s 487ms/step - loss: 0.1123 - val_loss: 0.2219\n",
            "\n",
            "Epoch 00020: saving model to Attention_dot_model/w1.ckpt\n",
            "Epoch 21/40\n",
            "268/268 [==============================] - 131s 489ms/step - loss: 0.1034 - val_loss: 0.2173\n",
            "\n",
            "Epoch 00021: saving model to Attention_dot_model/w1.ckpt\n",
            "Epoch 22/40\n",
            "268/268 [==============================] - 131s 487ms/step - loss: 0.0951 - val_loss: 0.2131\n",
            "\n",
            "Epoch 00022: saving model to Attention_dot_model/w1.ckpt\n",
            "Epoch 23/40\n",
            "268/268 [==============================] - 129s 481ms/step - loss: 0.0873 - val_loss: 0.2103\n",
            "\n",
            "Epoch 00023: saving model to Attention_dot_model/w1.ckpt\n",
            "Epoch 24/40\n",
            "268/268 [==============================] - 129s 480ms/step - loss: 0.0814 - val_loss: 0.2076\n",
            "\n",
            "Epoch 00024: saving model to Attention_dot_model/w1.ckpt\n",
            "Epoch 25/40\n",
            "268/268 [==============================] - 130s 486ms/step - loss: 0.0745 - val_loss: 0.2057\n",
            "\n",
            "Epoch 00025: saving model to Attention_dot_model/w1.ckpt\n",
            "Epoch 26/40\n",
            "268/268 [==============================] - 129s 482ms/step - loss: 0.0697 - val_loss: 0.2027\n",
            "\n",
            "Epoch 00026: saving model to Attention_dot_model/w1.ckpt\n",
            "Epoch 27/40\n",
            "268/268 [==============================] - 130s 485ms/step - loss: 0.0646 - val_loss: 0.2012\n",
            "\n",
            "Epoch 00027: saving model to Attention_dot_model/w1.ckpt\n",
            "Epoch 28/40\n",
            "268/268 [==============================] - 129s 482ms/step - loss: 0.0608 - val_loss: 0.2001\n",
            "\n",
            "Epoch 00028: saving model to Attention_dot_model/w1.ckpt\n",
            "Epoch 29/40\n",
            "268/268 [==============================] - 130s 484ms/step - loss: 0.0563 - val_loss: 0.1998\n",
            "\n",
            "Epoch 00029: saving model to Attention_dot_model/w1.ckpt\n",
            "Epoch 30/40\n",
            "268/268 [==============================] - 129s 481ms/step - loss: 0.0526 - val_loss: 0.1997\n",
            "\n",
            "Epoch 00030: saving model to Attention_dot_model/w1.ckpt\n",
            "Epoch 31/40\n",
            "268/268 [==============================] - 126s 472ms/step - loss: 0.0496 - val_loss: 0.1994\n",
            "\n",
            "Epoch 00031: saving model to Attention_dot_model/w1.ckpt\n",
            "Epoch 32/40\n",
            "268/268 [==============================] - 127s 474ms/step - loss: 0.0467 - val_loss: 0.1987\n",
            "\n",
            "Epoch 00032: saving model to Attention_dot_model/w1.ckpt\n",
            "Epoch 33/40\n",
            "268/268 [==============================] - 128s 476ms/step - loss: 0.0443 - val_loss: 0.1986\n",
            "\n",
            "Epoch 00033: saving model to Attention_dot_model/w1.ckpt\n",
            "Epoch 34/40\n",
            "268/268 [==============================] - 129s 483ms/step - loss: 0.0414 - val_loss: 0.1983\n",
            "\n",
            "Epoch 00034: saving model to Attention_dot_model/w1.ckpt\n",
            "Epoch 35/40\n",
            "268/268 [==============================] - 130s 485ms/step - loss: 0.0387 - val_loss: 0.1987\n",
            "\n",
            "Epoch 00035: saving model to Attention_dot_model/w1.ckpt\n",
            "Epoch 36/40\n",
            "268/268 [==============================] - 130s 486ms/step - loss: 0.0369 - val_loss: 0.1999\n",
            "\n",
            "Epoch 00036: saving model to Attention_dot_model/w1.ckpt\n",
            "Epoch 37/40\n",
            "268/268 [==============================] - 130s 486ms/step - loss: 0.0346 - val_loss: 0.2000\n",
            "\n",
            "Epoch 00037: saving model to Attention_dot_model/w1.ckpt\n",
            "Epoch 38/40\n",
            "268/268 [==============================] - 129s 482ms/step - loss: 0.0331 - val_loss: 0.2002\n",
            "\n",
            "Epoch 00038: saving model to Attention_dot_model/w1.ckpt\n",
            "Epoch 39/40\n",
            "268/268 [==============================] - 129s 483ms/step - loss: 0.0311 - val_loss: 0.2009\n",
            "\n",
            "Epoch 00039: saving model to Attention_dot_model/w1.ckpt\n",
            "Epoch 40/40\n",
            "268/268 [==============================] - 129s 481ms/step - loss: 0.0298 - val_loss: 0.2016\n",
            "\n",
            "Epoch 00040: saving model to Attention_dot_model/w1.ckpt\n",
            "Model: \"encoder__decoder_2\"\n",
            "_________________________________________________________________\n",
            "Layer (type)                 Output Shape              Param #   \n",
            "=================================================================\n",
            "encoder_2 (Encoder)          multiple                  5712768   \n",
            "_________________________________________________________________\n",
            "decoder_2 (Decoder)          multiple                  6591594   \n",
            "=================================================================\n",
            "Total params: 12,304,362\n",
            "Trainable params: 12,304,362\n",
            "Non-trainable params: 0\n",
            "_________________________________________________________________\n",
            "CPU times: user 1h 47min 55s, sys: 15min 23s, total: 2h 3min 19s\n",
            "Wall time: 1h 27min 10s\n"
          ],
          "name": "stdout"
        }
      ]
    },
    {
      "cell_type": "markdown",
      "metadata": {
        "id": "6DpC9zlzMcXp"
      },
      "source": [
        "## <font color='Turquoise'>**Inference**</font>"
      ]
    },
    {
      "cell_type": "markdown",
      "metadata": {
        "id": "Z5NhESYyMW_t"
      },
      "source": [
        "<font color='Tomato'>**Plot attention weights**</font>"
      ]
    },
    {
      "cell_type": "code",
      "metadata": {
        "id": "pkEY7SsBMtrC"
      },
      "source": [
        "def plot_attention(attention, sentence, predicted_sentence):\n",
        "  #Refer: https://www.tensorflow.org/tutorials/text/nmt_with_attention#translate\n",
        "  fig = plt.figure(figsize=(10,10))\n",
        "  ax = fig.add_subplot(1, 1, 1)\n",
        "  ax.matshow(attention, cmap='viridis')\n",
        "\n",
        "  fontdict = {'fontsize': 14}\n",
        "\n",
        "  ax.set_xticklabels([''] + sentence, fontdict=fontdict, rotation=90)\n",
        "  ax.set_yticklabels([''] + predicted_sentence, fontdict=fontdict)\n",
        "\n",
        "  ax.xaxis.set_major_locator(ticker.MultipleLocator(1))\n",
        "  ax.yaxis.set_major_locator(ticker.MultipleLocator(1))\n",
        "\n",
        "  plt.show()\n"
      ],
      "execution_count": null,
      "outputs": []
    },
    {
      "cell_type": "markdown",
      "metadata": {
        "id": "e1IhdBrgQYJr"
      },
      "source": [
        "<font color='PowderBlue'>**Predict the sentence translation**</font>"
      ]
    },
    {
      "cell_type": "code",
      "metadata": {
        "id": "w-Buomctk6kv"
      },
      "source": [
        "#predict for attention\r\n",
        "def predict(input_sentence):\r\n",
        "\r\n",
        "  '''\r\n",
        "  A. Given input sentence, convert the sentence into integers using tokenizer used earlier\r\n",
        "  B. Pass the input_sequence to encoder. we get encoder_outputs, last time step hidden and cell state\r\n",
        "  C. Initialize index of <start> as input to decoder. and encoder final states as input_states to onestepdecoder.\r\n",
        "  D. till we reach max_length of decoder or till the model predicted word <end>:\r\n",
        "         predictions, input_states, attention_weights = model.layers[1].onestepdecoder(input_to_decoder, encoder_output, input_states)\r\n",
        "         Save the attention weights\r\n",
        "         And get the word using the tokenizer(word index) and then store it in a string.\r\n",
        "  E. Call plot_attention(#params)\r\n",
        "  F. Return the predicted sentence\r\n",
        "  '''\r\n",
        "  print('input_sentence',input_sentence)\r\n",
        "  result = []\r\n",
        "  \r\n",
        "  #preprocessing input sentence\r\n",
        "  input_sentence = input_sentence.split()\r\n",
        "  input_seq = tknizer_ita.texts_to_sequences([input_sentence])\r\n",
        "  \r\n",
        "  input_seq = pad_sequences(input_seq, maxlen=20, dtype='int32', padding='post')\r\n",
        "  \r\n",
        "  #input the preprocessed sentence to encoder \r\n",
        "  batch_size = 1\r\n",
        "  states = model.layers[0].initialize_states(batch_size)\r\n",
        "  encoder_out,encoder_h,encoder_c = model.layers[0](input_seq,states)\r\n",
        "  states = [encoder_h,encoder_c]\r\n",
        "\r\n",
        "  #initial input to the decorder\r\n",
        "  dec_inp = tf.expand_dims([tknizer_eng.word_index['<start>']], 0)\r\n",
        "\r\n",
        "  #initialize decoder hidden state\r\n",
        "  dec_h = encoder_h\r\n",
        "  dec_c = encoder_c\r\n",
        "  att_wts = []\r\n",
        "\r\n",
        "  for i in range(20):\r\n",
        "      #print('1')  \r\n",
        "      predictions, dec_h, dec_c, attention_weights = model.layers[1].onestepdecoder(dec_inp, encoder_out, dec_h,dec_c)\r\n",
        "\r\n",
        "      attention_weights = tf.reshape(attention_weights, (-1, ))\r\n",
        "      att_wts.append(attention_weights)\r\n",
        "        \r\n",
        "      prediction_id =  tf.argmax(predictions[0]).numpy()\r\n",
        "      prediction_id = np.argmax(predictions)\r\n",
        "\r\n",
        "      if tknizer_eng.index_word[prediction_id] == '<end>':\r\n",
        "          break \r\n",
        "      else:\r\n",
        "          result.append(tknizer_eng.index_word[prediction_id]) \r\n",
        "          \r\n",
        "      dec_inp = tf.expand_dims([prediction_id], 0)    \r\n",
        "    \r\n",
        "   \r\n",
        "         \r\n",
        "  plot_attention(att_wts,input_sentence,result)      \r\n",
        "  return result   "
      ],
      "execution_count": null,
      "outputs": []
    },
    {
      "cell_type": "code",
      "metadata": {
        "colab": {
          "base_uri": "https://localhost:8080/",
          "height": 194
        },
        "id": "Ld8G3_sdQWgc",
        "outputId": "1b17b879-8ed7-4f4e-a931-3934d1623c0a"
      },
      "source": [
        "prediction_data = validation.sample(10)\r\n",
        "prediction_data.head()"
      ],
      "execution_count": null,
      "outputs": [
        {
          "output_type": "execute_result",
          "data": {
            "text/html": [
              "<div>\n",
              "<style scoped>\n",
              "    .dataframe tbody tr th:only-of-type {\n",
              "        vertical-align: middle;\n",
              "    }\n",
              "\n",
              "    .dataframe tbody tr th {\n",
              "        vertical-align: top;\n",
              "    }\n",
              "\n",
              "    .dataframe thead th {\n",
              "        text-align: right;\n",
              "    }\n",
              "</style>\n",
              "<table border=\"1\" class=\"dataframe\">\n",
              "  <thead>\n",
              "    <tr style=\"text-align: right;\">\n",
              "      <th></th>\n",
              "      <th>italian</th>\n",
              "      <th>english_inp</th>\n",
              "      <th>english_out</th>\n",
              "    </tr>\n",
              "  </thead>\n",
              "  <tbody>\n",
              "    <tr>\n",
              "      <th>286878</th>\n",
              "      <td>hai finito di leggere il romanzo</td>\n",
              "      <td>&lt;start&gt; have you finished reading the novel</td>\n",
              "      <td>have you finished reading the novel &lt;end&gt;</td>\n",
              "    </tr>\n",
              "    <tr>\n",
              "      <th>136221</th>\n",
              "      <td>ovviamente non è vera</td>\n",
              "      <td>&lt;start&gt; of course it is not true</td>\n",
              "      <td>of course it is not true &lt;end&gt;</td>\n",
              "    </tr>\n",
              "    <tr>\n",
              "      <th>153404</th>\n",
              "      <td>loro avevano idee diverse</td>\n",
              "      <td>&lt;start&gt; they had different ideas</td>\n",
              "      <td>they had different ideas &lt;end&gt;</td>\n",
              "    </tr>\n",
              "    <tr>\n",
              "      <th>85760</th>\n",
              "      <td>gli piace questa chitarra</td>\n",
              "      <td>&lt;start&gt; he likes this guitar</td>\n",
              "      <td>he likes this guitar &lt;end&gt;</td>\n",
              "    </tr>\n",
              "    <tr>\n",
              "      <th>33079</th>\n",
              "      <td>quelle sono per me</td>\n",
              "      <td>&lt;start&gt; are those for me</td>\n",
              "      <td>are those for me &lt;end&gt;</td>\n",
              "    </tr>\n",
              "  </tbody>\n",
              "</table>\n",
              "</div>"
            ],
            "text/plain": [
              "                                 italian  ...                                english_out\n",
              "286878  hai finito di leggere il romanzo  ...  have you finished reading the novel <end>\n",
              "136221             ovviamente non è vera  ...             of course it is not true <end>\n",
              "153404         loro avevano idee diverse  ...             they had different ideas <end>\n",
              "85760          gli piace questa chitarra  ...                 he likes this guitar <end>\n",
              "33079                 quelle sono per me  ...                     are those for me <end>\n",
              "\n",
              "[5 rows x 3 columns]"
            ]
          },
          "metadata": {
            "tags": []
          },
          "execution_count": 47
        }
      ]
    },
    {
      "cell_type": "code",
      "metadata": {
        "id": "p-k6tEhqlRw5"
      },
      "source": [
        "prediction_data_inps = prediction_data['italian'].values"
      ],
      "execution_count": null,
      "outputs": []
    },
    {
      "cell_type": "code",
      "metadata": {
        "colab": {
          "base_uri": "https://localhost:8080/",
          "height": 1000
        },
        "id": "RnSOOruiQnQq",
        "outputId": "17cfcb53-437c-47af-9495-2ef98625050f"
      },
      "source": [
        "predicted_sent = []\r\n",
        "for input_sentence in prediction_data_inps:\r\n",
        "    predicted_sent.append(predict(input_sentence))"
      ],
      "execution_count": null,
      "outputs": [
        {
          "output_type": "stream",
          "text": [
            "input_sentence hai finito di leggere il romanzo\n"
          ],
          "name": "stdout"
        },
        {
          "output_type": "display_data",
          "data": {
            "image/png": "[encoded data removed]",
            "text/plain": [
              "<Figure size 720x720 with 1 Axes>"
            ]
          },
          "metadata": {
            "tags": [],
            "needs_background": "light"
          }
        },
        {
          "output_type": "stream",
          "text": [
            "input_sentence ovviamente non è vera\n"
          ],
          "name": "stdout"
        },
        {
          "output_type": "display_data",
          "data": {
            "image/png": "[encoded data removed]",
            "text/plain": [
              "<Figure size 720x720 with 1 Axes>"
            ]
          },
          "metadata": {
            "tags": [],
            "needs_background": "light"
          }
        },
        {
          "output_type": "stream",
          "text": [
            "input_sentence loro avevano idee diverse\n"
          ],
          "name": "stdout"
        },
        {
          "output_type": "display_data",
          "data": {
            "image/png": "[encoded data removed]",
            "text/plain": [
              "<Figure size 720x720 with 1 Axes>"
            ]
          },
          "metadata": {
            "tags": [],
            "needs_background": "light"
          }
        },
        {
          "output_type": "stream",
          "text": [
            "input_sentence gli piace questa chitarra\n"
          ],
          "name": "stdout"
        },
        {
          "output_type": "display_data",
          "data": {
            "image/png": "[encoded data removed]",
            "text/plain": [
              "<Figure size 720x720 with 1 Axes>"
            ]
          },
          "metadata": {
            "tags": [],
            "needs_background": "light"
          }
        },
        {
          "output_type": "stream",
          "text": [
            "input_sentence quelle sono per me\n"
          ],
          "name": "stdout"
        },
        {
          "output_type": "display_data",
          "data": {
            "image/png": "[encoded data removed]",
            "text/plain": [
              "<Figure size 720x720 with 1 Axes>"
            ]
          },
          "metadata": {
            "tags": [],
            "needs_background": "light"
          }
        },
        {
          "output_type": "stream",
          "text": [
            "input_sentence tom è innamorato di me\n"
          ],
          "name": "stdout"
        },
        {
          "output_type": "display_data",
          "data": {
            "image/png": "[encoded data removed]",
            "text/plain": [
              "<Figure size 720x720 with 1 Axes>"
            ]
          },
          "metadata": {
            "tags": [],
            "needs_background": "light"
          }
        },
        {
          "output_type": "stream",
          "text": [
            "input_sentence tu sei malvagia\n"
          ],
          "name": "stdout"
        },
        {
          "output_type": "display_data",
          "data": {
            "image/png": "[encoded data removed]",
            "text/plain": [
              "<Figure size 720x720 with 1 Axes>"
            ]
          },
          "metadata": {
            "tags": [],
            "needs_background": "light"
          }
        },
        {
          "output_type": "stream",
          "text": [
            "input_sentence il tumulto è sfuggito di mano\n"
          ],
          "name": "stdout"
        },
        {
          "output_type": "display_data",
          "data": {
            "image/png": "[encoded data removed]",
            "text/plain": [
              "<Figure size 720x720 with 1 Axes>"
            ]
          },
          "metadata": {
            "tags": [],
            "needs_background": "light"
          }
        },
        {
          "output_type": "stream",
          "text": [
            "input_sentence tom e mary sono una bella coppia\n"
          ],
          "name": "stdout"
        },
        {
          "output_type": "display_data",
          "data": {
            "image/png": "[encoded data removed]",
            "text/plain": [
              "<Figure size 720x720 with 1 Axes>"
            ]
          },
          "metadata": {
            "tags": [],
            "needs_background": "light"
          }
        },
        {
          "output_type": "stream",
          "text": [
            "input_sentence che cane strano\n"
          ],
          "name": "stdout"
        },
        {
          "output_type": "display_data",
          "data": {
            "image/png": "[encoded data removed]",
            "text/plain": [
              "<Figure size 720x720 with 1 Axes>"
            ]
          },
          "metadata": {
            "tags": [],
            "needs_background": "light"
          }
        }
      ]
    },
    {
      "cell_type": "code",
      "metadata": {
        "colab": {
          "base_uri": "https://localhost:8080/"
        },
        "id": "FeIhDDXPJWL7",
        "outputId": "a759e065-9dca-481a-f4b5-a8fa94bd86a4"
      },
      "source": [
        "predicted_sent"
      ],
      "execution_count": null,
      "outputs": [
        {
          "output_type": "execute_result",
          "data": {
            "text/plain": [
              "[['have', 'you', 'finished', 'reading', 'the', 'novel'],\n",
              " ['obviously', 'it', 'is', 'not', 'true'],\n",
              " ['they', 'had', 'different', 'ideas'],\n",
              " ['he', 'likes', 'this', 'guitar'],\n",
              " ['are', 'those', 'for', 'me'],\n",
              " ['tom', 'is', 'in', 'love', 'with', 'me'],\n",
              " ['you', 'are', 'evil'],\n",
              " ['the', 'riot', 'got', 'off', 'hand'],\n",
              " ['tom', 'and', 'mary', 'are', 'a', 'nice', 'couple'],\n",
              " ['what', 'a', 'strange', 'dog']]"
            ]
          },
          "metadata": {
            "tags": []
          },
          "execution_count": 50
        }
      ]
    },
    {
      "cell_type": "markdown",
      "metadata": {
        "id": "jmxIVOOQPWMu"
      },
      "source": [
        "<font color='PowderBlue'>**Calculate BLEU score**</font>"
      ]
    },
    {
      "cell_type": "code",
      "metadata": {
        "colab": {
          "base_uri": "https://localhost:8080/",
          "height": 194
        },
        "id": "iovX2Fo_MgBR",
        "outputId": "011b8987-7100-40e2-fca6-ff38e2ec465a"
      },
      "source": [
        "prediction_data = validation.sample(1000)\r\n",
        "prediction_data.head()"
      ],
      "execution_count": null,
      "outputs": [
        {
          "output_type": "execute_result",
          "data": {
            "text/html": [
              "<div>\n",
              "<style scoped>\n",
              "    .dataframe tbody tr th:only-of-type {\n",
              "        vertical-align: middle;\n",
              "    }\n",
              "\n",
              "    .dataframe tbody tr th {\n",
              "        vertical-align: top;\n",
              "    }\n",
              "\n",
              "    .dataframe thead th {\n",
              "        text-align: right;\n",
              "    }\n",
              "</style>\n",
              "<table border=\"1\" class=\"dataframe\">\n",
              "  <thead>\n",
              "    <tr style=\"text-align: right;\">\n",
              "      <th></th>\n",
              "      <th>italian</th>\n",
              "      <th>english_inp</th>\n",
              "      <th>english_out</th>\n",
              "    </tr>\n",
              "  </thead>\n",
              "  <tbody>\n",
              "    <tr>\n",
              "      <th>8690</th>\n",
              "      <td>io ho diciottanni</td>\n",
              "      <td>&lt;start&gt; i am eighteen</td>\n",
              "      <td>i am eighteen &lt;end&gt;</td>\n",
              "    </tr>\n",
              "    <tr>\n",
              "      <th>116638</th>\n",
              "      <td>non bevo e non fumo</td>\n",
              "      <td>&lt;start&gt; i do not drink or smoke</td>\n",
              "      <td>i do not drink or smoke &lt;end&gt;</td>\n",
              "    </tr>\n",
              "    <tr>\n",
              "      <th>244900</th>\n",
              "      <td>lei dovera tre anni fa</td>\n",
              "      <td>&lt;start&gt; where were you three years ago</td>\n",
              "      <td>where were you three years ago &lt;end&gt;</td>\n",
              "    </tr>\n",
              "    <tr>\n",
              "      <th>264384</th>\n",
              "      <td>loro sono lottatori di sumo giapponesi</td>\n",
              "      <td>&lt;start&gt; they are japanese sumo wrestlers</td>\n",
              "      <td>they are japanese sumo wrestlers &lt;end&gt;</td>\n",
              "    </tr>\n",
              "    <tr>\n",
              "      <th>331850</th>\n",
              "      <td>perché non smette di preoccuparsi e dorme un po</td>\n",
              "      <td>&lt;start&gt; why do not you stop worrying and get s...</td>\n",
              "      <td>why do not you stop worrying and get some slee...</td>\n",
              "    </tr>\n",
              "  </tbody>\n",
              "</table>\n",
              "</div>"
            ],
            "text/plain": [
              "                                                italian  ...                                        english_out\n",
              "8690                                  io ho diciottanni  ...                                i am eighteen <end>\n",
              "116638                              non bevo e non fumo  ...                      i do not drink or smoke <end>\n",
              "244900                           lei dovera tre anni fa  ...               where were you three years ago <end>\n",
              "264384           loro sono lottatori di sumo giapponesi  ...             they are japanese sumo wrestlers <end>\n",
              "331850  perché non smette di preoccuparsi e dorme un po  ...  why do not you stop worrying and get some slee...\n",
              "\n",
              "[5 rows x 3 columns]"
            ]
          },
          "metadata": {
            "tags": []
          },
          "execution_count": 51
        }
      ]
    },
    {
      "cell_type": "code",
      "metadata": {
        "id": "HuFwNDGZNKWp"
      },
      "source": [
        "#predict for attention\r\n",
        "def predict2(input_sentence):\r\n",
        "\r\n",
        "  '''\r\n",
        "  A. Given input sentence, convert the sentence into integers using tokenizer used earlier\r\n",
        "  B. Pass the input_sequence to encoder. we get encoder_outputs, last time step hidden and cell state\r\n",
        "  C. Initialize index of <start> as input to decoder. and encoder final states as input_states to onestepdecoder.\r\n",
        "  D. till we reach max_length of decoder or till the model predicted word <end>:\r\n",
        "         predictions, input_states, attention_weights = model.layers[1].onestepdecoder(input_to_decoder, encoder_output, input_states)\r\n",
        "         Save the attention weights\r\n",
        "         And get the word using the tokenizer(word index) and then store it in a string.\r\n",
        "  E. Call plot_attention(#params)\r\n",
        "  F. Return the predicted sentence\r\n",
        "  '''\r\n",
        "  #print('input_sentence',input_sentence)\r\n",
        "  result = []\r\n",
        "  \r\n",
        "  #preprocessing input sentence\r\n",
        "  input_sentence = input_sentence.split()\r\n",
        "  input_seq = tknizer_ita.texts_to_sequences([input_sentence])\r\n",
        "  \r\n",
        "  input_seq = pad_sequences(input_seq, maxlen=20, dtype='int32', padding='post')\r\n",
        "  \r\n",
        "  #input the preprocessed sentence to encoder \r\n",
        "  batch_size = 1\r\n",
        "  states = model.layers[0].initialize_states(batch_size)\r\n",
        "  encoder_out,encoder_h,encoder_c = model.layers[0](input_seq,states)\r\n",
        "  states = [encoder_h,encoder_c]\r\n",
        "  #initial input to the decorder\r\n",
        "  dec_inp = tf.expand_dims([tknizer_eng.word_index['<start>']], 0)\r\n",
        "\r\n",
        "  dec_h = encoder_h\r\n",
        "  dec_c = encoder_c\r\n",
        "  att_wts = []\r\n",
        "\r\n",
        "  for i in range(20):\r\n",
        "      #print('1')  \r\n",
        "      predictions, dec_h, dec_c, attention_weights = model.layers[1].onestepdecoder(dec_inp, encoder_out, dec_h,dec_c)\r\n",
        "\r\n",
        "      attention_weights = tf.reshape(attention_weights, (-1, ))\r\n",
        "      att_wts.append(attention_weights)\r\n",
        "        \r\n",
        "      prediction_id =  tf.argmax(predictions[0]).numpy()\r\n",
        "      prediction_id = np.argmax(predictions)\r\n",
        "      if tknizer_eng.index_word[prediction_id] == '<end>':\r\n",
        "          break \r\n",
        "      else:\r\n",
        "          result.append(tknizer_eng.index_word[prediction_id])\r\n",
        "\r\n",
        "\r\n",
        "      dec_inp = tf.expand_dims([prediction_id], 0)       \r\n",
        "    \r\n",
        "  return result   "
      ],
      "execution_count": null,
      "outputs": []
    },
    {
      "cell_type": "code",
      "metadata": {
        "id": "-ThaMLF8Msgu"
      },
      "source": [
        "prediction_data_inps = prediction_data['italian'].values"
      ],
      "execution_count": null,
      "outputs": []
    },
    {
      "cell_type": "code",
      "metadata": {
        "id": "mXovYA1xMyqj"
      },
      "source": [
        "predicted_sent = []\r\n",
        "for input_sentence in prediction_data_inps:\r\n",
        "    predicted_sent.append(predict2(input_sentence))"
      ],
      "execution_count": null,
      "outputs": []
    },
    {
      "cell_type": "code",
      "metadata": {
        "colab": {
          "base_uri": "https://localhost:8080/"
        },
        "id": "8RNuB8FuZZax",
        "outputId": "14a7270e-6e20-46c8-815e-acd7f9fe99c9"
      },
      "source": [
        "predicted_sent[:5]"
      ],
      "execution_count": null,
      "outputs": [
        {
          "output_type": "execute_result",
          "data": {
            "text/plain": [
              "[['i', 'am', '18'],\n",
              " ['i', 'neither', 'drink', 'nor', 'smoke'],\n",
              " ['where', 'were', 'you', 'three', 'years', 'ago'],\n",
              " ['they', 'are', 'japanese', 'sumo', 'wrestlers'],\n",
              " ['why', 'do', 'you', 'not', 'touch', 'me', 'talking', 'while']]"
            ]
          },
          "metadata": {
            "tags": []
          },
          "execution_count": 55
        }
      ]
    },
    {
      "cell_type": "code",
      "metadata": {
        "id": "0B-9lQCqPuzp"
      },
      "source": [
        "prediction_eng_inps = prediction_data['english_inp'].values\r\n"
      ],
      "execution_count": null,
      "outputs": []
    },
    {
      "cell_type": "code",
      "metadata": {
        "colab": {
          "base_uri": "https://localhost:8080/"
        },
        "id": "CphWmajjR58l",
        "outputId": "305c6c91-dd04-459f-a9e4-c087c391cba6"
      },
      "source": [
        "eng_inps = []\r\n",
        "for i in prediction_eng_inps:\r\n",
        "    sent = []\r\n",
        "    for j in i.split():\r\n",
        "        if j!= '<start>':\r\n",
        "            sent.append(j)\r\n",
        "    eng_inps.append(sent)\r\n",
        "\r\n",
        "eng_inps[:5]"
      ],
      "execution_count": null,
      "outputs": [
        {
          "output_type": "execute_result",
          "data": {
            "text/plain": [
              "[['i', 'am', 'eighteen'],\n",
              " ['i', 'do', 'not', 'drink', 'or', 'smoke'],\n",
              " ['where', 'were', 'you', 'three', 'years', 'ago'],\n",
              " ['they', 'are', 'japanese', 'sumo', 'wrestlers'],\n",
              " ['why',\n",
              "  'do',\n",
              "  'not',\n",
              "  'you',\n",
              "  'stop',\n",
              "  'worrying',\n",
              "  'and',\n",
              "  'get',\n",
              "  'some',\n",
              "  'sleep']]"
            ]
          },
          "metadata": {
            "tags": []
          },
          "execution_count": 57
        }
      ]
    },
    {
      "cell_type": "code",
      "metadata": {
        "id": "0iHiLdROM23l"
      },
      "source": [
        "import nltk.translate.bleu_score as bleu\n",
        "blue_score = []\n",
        "for i in range(len(predicted_sent)):\n",
        "    blue_score.append(bleu.sentence_bleu([eng_inps[i]], predicted_sent[i]))"
      ],
      "execution_count": null,
      "outputs": []
    },
    {
      "cell_type": "code",
      "metadata": {
        "colab": {
          "base_uri": "https://localhost:8080/"
        },
        "id": "IYTddwXyujfp",
        "outputId": "96e5bda0-d09d-42d8-c745-5aace1507576"
      },
      "source": [
        "blue_score[:5]"
      ],
      "execution_count": null,
      "outputs": [
        {
          "output_type": "execute_result",
          "data": {
            "text/plain": [
              "[0.7598356856515925, 0.7205745450576256, 1.0, 1.0, 0.4026190971287384]"
            ]
          },
          "metadata": {
            "tags": []
          },
          "execution_count": 60
        }
      ]
    },
    {
      "cell_type": "code",
      "metadata": {
        "colab": {
          "base_uri": "https://localhost:8080/"
        },
        "id": "_kPh1GT7kLyU",
        "outputId": "f203ab98-3b6f-4ce1-f351-e5ab4e7abc2d"
      },
      "source": [
        "#Average Blue Score\r\n",
        "print('avg_blue_score ',(sum(blue_score)/len(blue_score)))"
      ],
      "execution_count": null,
      "outputs": [
        {
          "output_type": "stream",
          "text": [
            "avg_blue_score  0.840283581319609\n"
          ],
          "name": "stdout"
        }
      ]
    },
    {
      "cell_type": "markdown",
      "metadata": {
        "id": "Ttev8eOgFszI"
      },
      "source": [
        "# <font color='Red'>**Model-3 General Scoring**</font>"
      ]
    },
    {
      "cell_type": "code",
      "metadata": {
        "id": "pJUs__JZhNTu"
      },
      "source": [
        "class Encoder_Decoder(tf.keras.Model):\r\n",
        "  def __init__(self,encoder_inputs_length,decoder_inputs_length, output_vocab_size):\r\n",
        "    #Intialize objects from encoder decoder\r\n",
        "    super().__init__() \r\n",
        "    #create encoder object\r\n",
        "    self.encoder = Encoder(inp_vocab_size=vocab_size_ita+1, embedding_size=200, input_length=encoder_inputs_length, lstm_size=256)\r\n",
        "    #create decoder object\r\n",
        "    self.decoder = Decoder(out_vocab_size=vocab_size_eng+1, embedding_dim=200, input_length=decoder_inputs_length,dec_units = 256,score_fun = 'general',att_units=256)\r\n",
        "\r\n",
        "    #output dense layer\r\n",
        "    #self.dense   = Dense(output_vocab_size, activation='softmax')\r\n",
        "  \r\n",
        "  def call(self,data):\r\n",
        "    #Intialize encoder states, Pass the encoder_sequence to the embedding layer\r\n",
        "    # Decoder initial states are encoder final states, Initialize it accordingly\r\n",
        "    # Pass the decoder sequence,encoder_output,decoder states to Decoder\r\n",
        "    # return the decoder output\r\n",
        "    input,output = data[0], data[1]\r\n",
        "    batch_size = 1024\r\n",
        "    states                               = self.encoder.initialize_states(batch_size)\r\n",
        "    encoder_output, encoder_h, encoder_c = self.encoder(input,states)\r\n",
        "    encoder_states                       = [encoder_h, encoder_c]\r\n",
        "    decoder_hidden_state                 = encoder_h\r\n",
        "    decoder_cell_state                   = encoder_c\r\n",
        "    decoder_output                       = self.decoder(output, encoder_output,decoder_hidden_state,decoder_cell_state)\r\n",
        "    return decoder_output"
      ],
      "execution_count": null,
      "outputs": []
    },
    {
      "cell_type": "code",
      "metadata": {
        "id": "E0madwPLjHqH"
      },
      "source": [
        "checkpoint_path = \"Attention_general_model/w1.ckpt\"\r\n",
        "checkpoint_dir = os.path.dirname(checkpoint_path)\r\n",
        "\r\n",
        "# Create a callback that saves the model's weights\r\n",
        "cp_callback = tf.keras.callbacks.ModelCheckpoint(filepath=checkpoint_path,\r\n",
        "                                                 save_weights_only=True,\r\n",
        "                                                 verbose=1)\r\n"
      ],
      "execution_count": null,
      "outputs": []
    },
    {
      "cell_type": "code",
      "metadata": {
        "colab": {
          "base_uri": "https://localhost:8080/"
        },
        "id": "gTSeU02XjHqI",
        "outputId": "454e9363-4338-49a0-990c-2989c18b6487"
      },
      "source": [
        "%%time\r\n",
        "#Create an object of encoder_decoder Model class, \r\n",
        "# Compile the model and fit the model\r\n",
        "model  = Encoder_Decoder(encoder_inputs_length=20,decoder_inputs_length=20,output_vocab_size=vocab_size_eng)\r\n",
        "model.compile(optimizer=optimizer,loss=custom_lossfunction)\r\n",
        "train_steps=train.shape[0]//1024\r\n",
        "valid_steps=validation.shape[0]//1024\r\n",
        "model.fit(train_dataloader, steps_per_epoch=train_steps, epochs=30, validation_data=test_dataloader, validation_steps=valid_steps,callbacks=[cp_callback])\r\n",
        "model.summary()"
      ],
      "execution_count": null,
      "outputs": [
        {
          "output_type": "stream",
          "text": [
            "Epoch 1/30\n",
            "268/268 [==============================] - 172s 564ms/step - loss: 1.9016 - val_loss: 1.4885\n",
            "\n",
            "Epoch 00001: saving model to Attention_general_model/w1.ckpt\n",
            "Epoch 2/30\n",
            "268/268 [==============================] - 147s 547ms/step - loss: 1.4447 - val_loss: 1.3084\n",
            "\n",
            "Epoch 00002: saving model to Attention_general_model/w1.ckpt\n",
            "Epoch 3/30\n",
            "268/268 [==============================] - 146s 547ms/step - loss: 1.2615 - val_loss: 1.1489\n",
            "\n",
            "Epoch 00003: saving model to Attention_general_model/w1.ckpt\n",
            "Epoch 4/30\n",
            "268/268 [==============================] - 146s 543ms/step - loss: 1.1022 - val_loss: 1.0119\n",
            "\n",
            "Epoch 00004: saving model to Attention_general_model/w1.ckpt\n",
            "Epoch 5/30\n",
            "268/268 [==============================] - 147s 547ms/step - loss: 0.9656 - val_loss: 0.8949\n",
            "\n",
            "Epoch 00005: saving model to Attention_general_model/w1.ckpt\n",
            "Epoch 6/30\n",
            "268/268 [==============================] - 147s 549ms/step - loss: 0.8467 - val_loss: 0.7970\n",
            "\n",
            "Epoch 00006: saving model to Attention_general_model/w1.ckpt\n",
            "Epoch 7/30\n",
            "268/268 [==============================] - 148s 552ms/step - loss: 0.7429 - val_loss: 0.7106\n",
            "\n",
            "Epoch 00007: saving model to Attention_general_model/w1.ckpt\n",
            "Epoch 8/30\n",
            "268/268 [==============================] - 148s 551ms/step - loss: 0.6565 - val_loss: 0.6385\n",
            "\n",
            "Epoch 00008: saving model to Attention_general_model/w1.ckpt\n",
            "Epoch 9/30\n",
            "268/268 [==============================] - 148s 552ms/step - loss: 0.5812 - val_loss: 0.5795\n",
            "\n",
            "Epoch 00009: saving model to Attention_general_model/w1.ckpt\n",
            "Epoch 10/30\n",
            "268/268 [==============================] - 148s 551ms/step - loss: 0.5155 - val_loss: 0.5282\n",
            "\n",
            "Epoch 00010: saving model to Attention_general_model/w1.ckpt\n",
            "Epoch 11/30\n",
            "268/268 [==============================] - 148s 552ms/step - loss: 0.4596 - val_loss: 0.4859\n",
            "\n",
            "Epoch 00011: saving model to Attention_general_model/w1.ckpt\n",
            "Epoch 12/30\n",
            "268/268 [==============================] - 150s 559ms/step - loss: 0.4128 - val_loss: 0.4495\n",
            "\n",
            "Epoch 00012: saving model to Attention_general_model/w1.ckpt\n",
            "Epoch 13/30\n",
            "268/268 [==============================] - 149s 556ms/step - loss: 0.3703 - val_loss: 0.4174\n",
            "\n",
            "Epoch 00013: saving model to Attention_general_model/w1.ckpt\n",
            "Epoch 14/30\n",
            "268/268 [==============================] - 149s 558ms/step - loss: 0.3338 - val_loss: 0.3926\n",
            "\n",
            "Epoch 00014: saving model to Attention_general_model/w1.ckpt\n",
            "Epoch 15/30\n",
            "268/268 [==============================] - 149s 554ms/step - loss: 0.3052 - val_loss: 0.3704\n",
            "\n",
            "Epoch 00015: saving model to Attention_general_model/w1.ckpt\n",
            "Epoch 16/30\n",
            "268/268 [==============================] - 151s 565ms/step - loss: 0.2775 - val_loss: 0.3505\n",
            "\n",
            "Epoch 00016: saving model to Attention_general_model/w1.ckpt\n",
            "Epoch 17/30\n",
            "268/268 [==============================] - 149s 554ms/step - loss: 0.2540 - val_loss: 0.3346\n",
            "\n",
            "Epoch 00017: saving model to Attention_general_model/w1.ckpt\n",
            "Epoch 18/30\n",
            "268/268 [==============================] - 150s 558ms/step - loss: 0.2335 - val_loss: 0.3210\n",
            "\n",
            "Epoch 00018: saving model to Attention_general_model/w1.ckpt\n",
            "Epoch 19/30\n",
            "268/268 [==============================] - 150s 559ms/step - loss: 0.2141 - val_loss: 0.3074\n",
            "\n",
            "Epoch 00019: saving model to Attention_general_model/w1.ckpt\n",
            "Epoch 20/30\n",
            "268/268 [==============================] - 148s 553ms/step - loss: 0.1989 - val_loss: 0.2977\n",
            "\n",
            "Epoch 00020: saving model to Attention_general_model/w1.ckpt\n",
            "Epoch 21/30\n",
            "268/268 [==============================] - 148s 552ms/step - loss: 0.1839 - val_loss: 0.2884\n",
            "\n",
            "Epoch 00021: saving model to Attention_general_model/w1.ckpt\n",
            "Epoch 22/30\n",
            "268/268 [==============================] - 148s 551ms/step - loss: 0.1710 - val_loss: 0.2797\n",
            "\n",
            "Epoch 00022: saving model to Attention_general_model/w1.ckpt\n",
            "Epoch 23/30\n",
            "268/268 [==============================] - 148s 552ms/step - loss: 0.1602 - val_loss: 0.2729\n",
            "\n",
            "Epoch 00023: saving model to Attention_general_model/w1.ckpt\n",
            "Epoch 24/30\n",
            "268/268 [==============================] - 148s 552ms/step - loss: 0.1489 - val_loss: 0.2663\n",
            "\n",
            "Epoch 00024: saving model to Attention_general_model/w1.ckpt\n",
            "Epoch 25/30\n",
            "268/268 [==============================] - 148s 552ms/step - loss: 0.1399 - val_loss: 0.2595\n",
            "\n",
            "Epoch 00025: saving model to Attention_general_model/w1.ckpt\n",
            "Epoch 26/30\n",
            "268/268 [==============================] - 147s 547ms/step - loss: 0.1310 - val_loss: 0.2561\n",
            "\n",
            "Epoch 00026: saving model to Attention_general_model/w1.ckpt\n",
            "Epoch 27/30\n",
            "268/268 [==============================] - 148s 551ms/step - loss: 0.1234 - val_loss: 0.2523\n",
            "\n",
            "Epoch 00027: saving model to Attention_general_model/w1.ckpt\n",
            "Epoch 28/30\n",
            "268/268 [==============================] - 147s 549ms/step - loss: 0.1153 - val_loss: 0.2477\n",
            "\n",
            "Epoch 00028: saving model to Attention_general_model/w1.ckpt\n",
            "Epoch 29/30\n",
            "268/268 [==============================] - 147s 549ms/step - loss: 0.1082 - val_loss: 0.2439\n",
            "\n",
            "Epoch 00029: saving model to Attention_general_model/w1.ckpt\n",
            "Epoch 30/30\n",
            "268/268 [==============================] - 148s 553ms/step - loss: 0.1015 - val_loss: 0.2411\n",
            "\n",
            "Epoch 00030: saving model to Attention_general_model/w1.ckpt\n",
            "Model: \"encoder__decoder_3\"\n",
            "_________________________________________________________________\n",
            "Layer (type)                 Output Shape              Param #   \n",
            "=================================================================\n",
            "encoder_3 (Encoder)          multiple                  5712768   \n",
            "_________________________________________________________________\n",
            "decoder_3 (Decoder)          multiple                  6657386   \n",
            "=================================================================\n",
            "Total params: 12,370,154\n",
            "Trainable params: 12,370,154\n",
            "Non-trainable params: 0\n",
            "_________________________________________________________________\n",
            "CPU times: user 1h 26min 40s, sys: 13min 46s, total: 1h 40min 27s\n",
            "Wall time: 1h 14min 35s\n"
          ],
          "name": "stdout"
        }
      ]
    },
    {
      "cell_type": "code",
      "metadata": {
        "colab": {
          "base_uri": "https://localhost:8080/",
          "height": 194
        },
        "id": "dVz0JePNV5qr",
        "outputId": "4991345f-f67b-4a4d-b82e-f29054d80c2b"
      },
      "source": [
        "prediction_data = validation.sample(10)\r\n",
        "prediction_data.head()"
      ],
      "execution_count": null,
      "outputs": [
        {
          "output_type": "execute_result",
          "data": {
            "text/html": [
              "<div>\n",
              "<style scoped>\n",
              "    .dataframe tbody tr th:only-of-type {\n",
              "        vertical-align: middle;\n",
              "    }\n",
              "\n",
              "    .dataframe tbody tr th {\n",
              "        vertical-align: top;\n",
              "    }\n",
              "\n",
              "    .dataframe thead th {\n",
              "        text-align: right;\n",
              "    }\n",
              "</style>\n",
              "<table border=\"1\" class=\"dataframe\">\n",
              "  <thead>\n",
              "    <tr style=\"text-align: right;\">\n",
              "      <th></th>\n",
              "      <th>italian</th>\n",
              "      <th>english_inp</th>\n",
              "      <th>english_out</th>\n",
              "    </tr>\n",
              "  </thead>\n",
              "  <tbody>\n",
              "    <tr>\n",
              "      <th>331680</th>\n",
              "      <td>tom ha detto a mary che avrebbe potuto predire...</td>\n",
              "      <td>&lt;start&gt; tom told mary that he could predict th...</td>\n",
              "      <td>tom told mary that he could predict the future...</td>\n",
              "    </tr>\n",
              "    <tr>\n",
              "      <th>50832</th>\n",
              "      <td>era laccordo</td>\n",
              "      <td>&lt;start&gt; that was the deal</td>\n",
              "      <td>that was the deal &lt;end&gt;</td>\n",
              "    </tr>\n",
              "    <tr>\n",
              "      <th>198853</th>\n",
              "      <td>dimmi qual è il problema</td>\n",
              "      <td>&lt;start&gt; tell me what the problem is</td>\n",
              "      <td>tell me what the problem is &lt;end&gt;</td>\n",
              "    </tr>\n",
              "    <tr>\n",
              "      <th>243679</th>\n",
              "      <td>tom vuole andare fuori per fare una passeggiata</td>\n",
              "      <td>&lt;start&gt; tom wants to go out for a walk</td>\n",
              "      <td>tom wants to go out for a walk &lt;end&gt;</td>\n",
              "    </tr>\n",
              "    <tr>\n",
              "      <th>93404</th>\n",
              "      <td>tom è stato colpito da una macchina</td>\n",
              "      <td>&lt;start&gt; tom got hit by a car</td>\n",
              "      <td>tom got hit by a car &lt;end&gt;</td>\n",
              "    </tr>\n",
              "  </tbody>\n",
              "</table>\n",
              "</div>"
            ],
            "text/plain": [
              "                                                  italian  ...                                        english_out\n",
              "331680  tom ha detto a mary che avrebbe potuto predire...  ...  tom told mary that he could predict the future...\n",
              "50832                                        era laccordo  ...                            that was the deal <end>\n",
              "198853                           dimmi qual è il problema  ...                  tell me what the problem is <end>\n",
              "243679    tom vuole andare fuori per fare una passeggiata  ...               tom wants to go out for a walk <end>\n",
              "93404                 tom è stato colpito da una macchina  ...                         tom got hit by a car <end>\n",
              "\n",
              "[5 rows x 3 columns]"
            ]
          },
          "metadata": {
            "tags": []
          },
          "execution_count": 64
        }
      ]
    },
    {
      "cell_type": "code",
      "metadata": {
        "id": "TAO_TrWLV5qs"
      },
      "source": [
        "prediction_data_inps = prediction_data['italian'].values"
      ],
      "execution_count": null,
      "outputs": []
    },
    {
      "cell_type": "code",
      "metadata": {
        "colab": {
          "base_uri": "https://localhost:8080/",
          "height": 1000
        },
        "id": "5LFgvEwhV5qs",
        "outputId": "f3da32aa-b870-47a7-b96c-43a3d356bf07"
      },
      "source": [
        "predicted_sent = []\r\n",
        "for input_sentence in prediction_data_inps:\r\n",
        "    predicted_sent.append(predict(input_sentence))"
      ],
      "execution_count": null,
      "outputs": [
        {
          "output_type": "stream",
          "text": [
            "input_sentence tom ha detto a mary che avrebbe potuto predire il futuro\n"
          ],
          "name": "stdout"
        },
        {
          "output_type": "display_data",
          "data": {
            "image/png": "[encoded data removed]",
            "text/plain": [
              "<Figure size 720x720 with 1 Axes>"
            ]
          },
          "metadata": {
            "tags": [],
            "needs_background": "light"
          }
        },
        {
          "output_type": "stream",
          "text": [
            "input_sentence era laccordo\n"
          ],
          "name": "stdout"
        },
        {
          "output_type": "display_data",
          "data": {
            "image/png": "[encoded data removed]",
            "text/plain": [
              "<Figure size 720x720 with 1 Axes>"
            ]
          },
          "metadata": {
            "tags": [],
            "needs_background": "light"
          }
        },
        {
          "output_type": "stream",
          "text": [
            "input_sentence dimmi qual è il problema\n"
          ],
          "name": "stdout"
        },
        {
          "output_type": "display_data",
          "data": {
            "image/png": "[encoded data removed]",
            "text/plain": [
              "<Figure size 720x720 with 1 Axes>"
            ]
          },
          "metadata": {
            "tags": [],
            "needs_background": "light"
          }
        },
        {
          "output_type": "stream",
          "text": [
            "input_sentence tom vuole andare fuori per fare una passeggiata\n"
          ],
          "name": "stdout"
        },
        {
          "output_type": "display_data",
          "data": {
            "image/png": "[encoded data removed]",
            "text/plain": [
              "<Figure size 720x720 with 1 Axes>"
            ]
          },
          "metadata": {
            "tags": [],
            "needs_background": "light"
          }
        },
        {
          "output_type": "stream",
          "text": [
            "input_sentence tom è stato colpito da una macchina\n"
          ],
          "name": "stdout"
        },
        {
          "output_type": "display_data",
          "data": {
            "image/png": "[encoded data removed]",
            "text/plain": [
              "<Figure size 720x720 with 1 Axes>"
            ]
          },
          "metadata": {
            "tags": [],
            "needs_background": "light"
          }
        },
        {
          "output_type": "stream",
          "text": [
            "input_sentence tom vuole che aiutiamo mary\n"
          ],
          "name": "stdout"
        },
        {
          "output_type": "display_data",
          "data": {
            "image/png": "[encoded data removed]",
            "text/plain": [
              "<Figure size 720x720 with 1 Axes>"
            ]
          },
          "metadata": {
            "tags": [],
            "needs_background": "light"
          }
        },
        {
          "output_type": "stream",
          "text": [
            "input_sentence feci il buffone\n"
          ],
          "name": "stdout"
        },
        {
          "output_type": "display_data",
          "data": {
            "image/png": "[encoded data removed]",
            "text/plain": [
              "<Figure size 720x720 with 1 Axes>"
            ]
          },
          "metadata": {
            "tags": [],
            "needs_background": "light"
          }
        },
        {
          "output_type": "stream",
          "text": [
            "input_sentence il cavallo di tom lha morso\n"
          ],
          "name": "stdout"
        },
        {
          "output_type": "display_data",
          "data": {
            "image/png": "[encoded data removed]",
            "text/plain": [
              "<Figure size 720x720 with 1 Axes>"
            ]
          },
          "metadata": {
            "tags": [],
            "needs_background": "light"
          }
        },
        {
          "output_type": "stream",
          "text": [
            "input_sentence questo albergo è stato costruito lanno scorso\n"
          ],
          "name": "stdout"
        },
        {
          "output_type": "display_data",
          "data": {
            "image/png": "[encoded data removed]",
            "text/plain": [
              "<Figure size 720x720 with 1 Axes>"
            ]
          },
          "metadata": {
            "tags": [],
            "needs_background": "light"
          }
        },
        {
          "output_type": "stream",
          "text": [
            "input_sentence chi altro è andato con tom\n"
          ],
          "name": "stdout"
        },
        {
          "output_type": "display_data",
          "data": {
            "image/png": "[encoded data removed]",
            "text/plain": [
              "<Figure size 720x720 with 1 Axes>"
            ]
          },
          "metadata": {
            "tags": [],
            "needs_background": "light"
          }
        }
      ]
    },
    {
      "cell_type": "code",
      "metadata": {
        "colab": {
          "base_uri": "https://localhost:8080/"
        },
        "id": "WhTtHjRXV5qs",
        "outputId": "0a133a4e-2c90-4645-9488-795e9fd49826"
      },
      "source": [
        "predicted_sent"
      ],
      "execution_count": null,
      "outputs": [
        {
          "output_type": "execute_result",
          "data": {
            "text/plain": [
              "[['tom',\n",
              "  'told',\n",
              "  'mary',\n",
              "  'he',\n",
              "  'could',\n",
              "  'be',\n",
              "  'the',\n",
              "  'same',\n",
              "  'can',\n",
              "  'the',\n",
              "  'future'],\n",
              " ['that', 'was', 'the', 'deal'],\n",
              " ['tell', 'me', 'what', 'the', 'problem', 'is'],\n",
              " ['tom', 'wants', 'to', 'go', 'outside', 'for', 'walk'],\n",
              " ['tom', 'was', 'hit', 'by', 'a', 'car'],\n",
              " ['tom', 'wants', 'tom', 'to', 'help', 'us'],\n",
              " ['i', 'goofed'],\n",
              " ['tom', 'is', 'horse', 'bit', 'about', 'her'],\n",
              " ['this', 'hotel', 'was', 'built', 'last', 'year'],\n",
              " ['who', 'else', 'did', 'go', 'with', 'tom']]"
            ]
          },
          "metadata": {
            "tags": []
          },
          "execution_count": 67
        }
      ]
    },
    {
      "cell_type": "markdown",
      "metadata": {
        "id": "3jYWQcxVV5qt"
      },
      "source": [
        "<font color='PowderBlue'>**Calculate BLEU score**</font>"
      ]
    },
    {
      "cell_type": "code",
      "metadata": {
        "colab": {
          "base_uri": "https://localhost:8080/",
          "height": 194
        },
        "id": "_WqLRaNtV5qt",
        "outputId": "17066bf6-303b-404c-af76-fbeac1d01353"
      },
      "source": [
        "prediction_data = validation.sample(1000)\r\n",
        "prediction_data.head()"
      ],
      "execution_count": null,
      "outputs": [
        {
          "output_type": "execute_result",
          "data": {
            "text/html": [
              "<div>\n",
              "<style scoped>\n",
              "    .dataframe tbody tr th:only-of-type {\n",
              "        vertical-align: middle;\n",
              "    }\n",
              "\n",
              "    .dataframe tbody tr th {\n",
              "        vertical-align: top;\n",
              "    }\n",
              "\n",
              "    .dataframe thead th {\n",
              "        text-align: right;\n",
              "    }\n",
              "</style>\n",
              "<table border=\"1\" class=\"dataframe\">\n",
              "  <thead>\n",
              "    <tr style=\"text-align: right;\">\n",
              "      <th></th>\n",
              "      <th>italian</th>\n",
              "      <th>english_inp</th>\n",
              "      <th>english_out</th>\n",
              "    </tr>\n",
              "  </thead>\n",
              "  <tbody>\n",
              "    <tr>\n",
              "      <th>222885</th>\n",
              "      <td>non riesco ad andare in palestra stasera</td>\n",
              "      <td>&lt;start&gt; i can not go to the gym tonight</td>\n",
              "      <td>i can not go to the gym tonight &lt;end&gt;</td>\n",
              "    </tr>\n",
              "    <tr>\n",
              "      <th>92326</th>\n",
              "      <td>cè un grande pericolo</td>\n",
              "      <td>&lt;start&gt; there is great danger</td>\n",
              "      <td>there is great danger &lt;end&gt;</td>\n",
              "    </tr>\n",
              "    <tr>\n",
              "      <th>288577</th>\n",
              "      <td>ero interessata a vedere la città</td>\n",
              "      <td>&lt;start&gt; i was interested in seeing the city</td>\n",
              "      <td>i was interested in seeing the city &lt;end&gt;</td>\n",
              "    </tr>\n",
              "    <tr>\n",
              "      <th>108940</th>\n",
              "      <td>tom non è malato vero</td>\n",
              "      <td>&lt;start&gt; tom is not sick is he</td>\n",
              "      <td>tom is not sick is he &lt;end&gt;</td>\n",
              "    </tr>\n",
              "    <tr>\n",
              "      <th>90402</th>\n",
              "      <td>era una buona risposta</td>\n",
              "      <td>&lt;start&gt; it was a good answer</td>\n",
              "      <td>it was a good answer &lt;end&gt;</td>\n",
              "    </tr>\n",
              "  </tbody>\n",
              "</table>\n",
              "</div>"
            ],
            "text/plain": [
              "                                         italian  ...                                english_out\n",
              "222885  non riesco ad andare in palestra stasera  ...      i can not go to the gym tonight <end>\n",
              "92326                      cè un grande pericolo  ...                there is great danger <end>\n",
              "288577         ero interessata a vedere la città  ...  i was interested in seeing the city <end>\n",
              "108940                     tom non è malato vero  ...                tom is not sick is he <end>\n",
              "90402                     era una buona risposta  ...                 it was a good answer <end>\n",
              "\n",
              "[5 rows x 3 columns]"
            ]
          },
          "metadata": {
            "tags": []
          },
          "execution_count": 68
        }
      ]
    },
    {
      "cell_type": "code",
      "metadata": {
        "id": "mF9BryvMV5qt"
      },
      "source": [
        "prediction_data_inps = prediction_data['italian'].values"
      ],
      "execution_count": null,
      "outputs": []
    },
    {
      "cell_type": "code",
      "metadata": {
        "id": "Wy7j7x7_V5qu"
      },
      "source": [
        "predicted_sent = []\r\n",
        "for input_sentence in prediction_data_inps:\r\n",
        "    predicted_sent.append(predict2(input_sentence))"
      ],
      "execution_count": null,
      "outputs": []
    },
    {
      "cell_type": "code",
      "metadata": {
        "colab": {
          "base_uri": "https://localhost:8080/"
        },
        "id": "PjYJVoshV5qu",
        "outputId": "7282845b-294c-4c58-99d5-16fcc1a71a03"
      },
      "source": [
        "predicted_sent[:5]"
      ],
      "execution_count": null,
      "outputs": [
        {
          "output_type": "execute_result",
          "data": {
            "text/plain": [
              "[['i', 'can', 'not', 'go', 'to', 'the', 'gym', 'tonight'],\n",
              " ['there', 'is', 'a', 'great', 'danger'],\n",
              " ['i', 'was', 'interested', 'in', 'the', 'city', 'to', 'see'],\n",
              " ['tom', 'is', 'not', 'sick', 'is', 'he'],\n",
              " ['that', 'was', 'a', 'good', 'answer']]"
            ]
          },
          "metadata": {
            "tags": []
          },
          "execution_count": 71
        }
      ]
    },
    {
      "cell_type": "code",
      "metadata": {
        "id": "53X42RQ7V5qu"
      },
      "source": [
        "prediction_eng_inps = prediction_data['english_inp'].values\r\n"
      ],
      "execution_count": null,
      "outputs": []
    },
    {
      "cell_type": "code",
      "metadata": {
        "colab": {
          "base_uri": "https://localhost:8080/"
        },
        "id": "vBdsO4TAV5qv",
        "outputId": "e334a970-8763-4ed4-cdb7-c07e488d252b"
      },
      "source": [
        "eng_inps = []\r\n",
        "for i in prediction_eng_inps:\r\n",
        "    sent = []\r\n",
        "    for j in i.split():\r\n",
        "        if j!= '<start>':\r\n",
        "            sent.append(j)\r\n",
        "        \r\n",
        "    eng_inps.append(sent)\r\n",
        "\r\n",
        "eng_inps[:5]"
      ],
      "execution_count": null,
      "outputs": [
        {
          "output_type": "execute_result",
          "data": {
            "text/plain": [
              "[['i', 'can', 'not', 'go', 'to', 'the', 'gym', 'tonight'],\n",
              " ['there', 'is', 'great', 'danger'],\n",
              " ['i', 'was', 'interested', 'in', 'seeing', 'the', 'city'],\n",
              " ['tom', 'is', 'not', 'sick', 'is', 'he'],\n",
              " ['it', 'was', 'a', 'good', 'answer']]"
            ]
          },
          "metadata": {
            "tags": []
          },
          "execution_count": 73
        }
      ]
    },
    {
      "cell_type": "code",
      "metadata": {
        "id": "32cOyaDWV5qv"
      },
      "source": [
        "import nltk.translate.bleu_score as bleu\n",
        "blue_score = []\n",
        "for i in range(len(predicted_sent)):\n",
        "    blue_score.append(bleu.sentence_bleu([eng_inps[i]], predicted_sent[i]))"
      ],
      "execution_count": null,
      "outputs": []
    },
    {
      "cell_type": "code",
      "metadata": {
        "colab": {
          "base_uri": "https://localhost:8080/"
        },
        "id": "W8LuGCSm60s9",
        "outputId": "259e8d8a-4c54-4790-fa9f-04815ba4efaa"
      },
      "source": [
        "#Average Blue Score\r\n",
        "print('avg_blue_score ',(sum(blue_score)/len(blue_score)))"
      ],
      "execution_count": null,
      "outputs": [
        {
          "output_type": "stream",
          "text": [
            "avg_blue_score  0.7911437684506459\n"
          ],
          "name": "stdout"
        }
      ]
    },
    {
      "cell_type": "markdown",
      "metadata": {
        "id": "EiPXfXSyIaeQ"
      },
      "source": [
        "# <font color='Red'>**Model-4 Concat Scoring**</font>"
      ]
    },
    {
      "cell_type": "code",
      "metadata": {
        "id": "Dm-SwPGVO5i2"
      },
      "source": [
        "class Encoder_Decoder(tf.keras.Model):\r\n",
        "  def __init__(self,encoder_inputs_length,decoder_inputs_length, output_vocab_size):\r\n",
        "    #Intialize objects from encoder decoder\r\n",
        "    super().__init__() \r\n",
        "    #create encoder object\r\n",
        "    self.encoder = Encoder(inp_vocab_size=vocab_size_ita+1, embedding_size=200, input_length=encoder_inputs_length, lstm_size=256)\r\n",
        "    #create decoder object\r\n",
        "    self.decoder = Decoder(out_vocab_size=vocab_size_eng+1, embedding_dim=200, input_length=decoder_inputs_length,dec_units = 256,score_fun = 'concat',att_units=256)\r\n",
        "\r\n",
        "  \r\n",
        "  def call(self,data):\r\n",
        "    #Intialize encoder states, Pass the encoder_sequence to the embedding layer\r\n",
        "    # Decoder initial states are encoder final states, Initialize it accordingly\r\n",
        "    # Pass the decoder sequence,encoder_output,decoder states to Decoder\r\n",
        "    # return the decoder output\r\n",
        "    input,output = data[0], data[1]\r\n",
        "    batch_size = 1024\r\n",
        "    states                               = self.encoder.initialize_states(batch_size)\r\n",
        "    encoder_output, encoder_h, encoder_c = self.encoder(input,states)\r\n",
        "    encoder_states                       = [encoder_h, encoder_c]\r\n",
        "    decoder_hidden_state                 = encoder_h\r\n",
        "    decoder_cell_state                   = encoder_c\r\n",
        "    decoder_output                       = self.decoder(output, encoder_output,decoder_hidden_state,decoder_cell_state)\r\n",
        "    return decoder_output"
      ],
      "execution_count": null,
      "outputs": []
    },
    {
      "cell_type": "code",
      "metadata": {
        "id": "I85GPVqvO-_Q"
      },
      "source": [
        "checkpoint_path = \"Attention_concat_model/w1.ckpt\"\r\n",
        "checkpoint_dir = os.path.dirname(checkpoint_path)\r\n",
        "\r\n",
        "# Create a callback that saves the model's weights\r\n",
        "cp_callback = tf.keras.callbacks.ModelCheckpoint(filepath=checkpoint_path,\r\n",
        "                                                 save_weights_only=True,\r\n",
        "                                                 verbose=1)"
      ],
      "execution_count": null,
      "outputs": []
    },
    {
      "cell_type": "code",
      "metadata": {
        "colab": {
          "base_uri": "https://localhost:8080/"
        },
        "id": "gy5g-fLXPEnD",
        "outputId": "b2ebc739-fce3-40c3-91b5-be9db7a236b9"
      },
      "source": [
        "%%time\r\n",
        "#Create an object of encoder_decoder Model class, \r\n",
        "# Compile the model and fit the model\r\n",
        "model = Encoder_Decoder(encoder_inputs_length=20,decoder_inputs_length=20,output_vocab_size=vocab_size_eng)\r\n",
        "model.compile(optimizer=optimizer,loss=custom_lossfunction)\r\n",
        "train_steps=train.shape[0]//1024\r\n",
        "valid_steps=validation.shape[0]//1024\r\n",
        "model.fit(train_dataloader, steps_per_epoch=train_steps, epochs=30, validation_data=test_dataloader, validation_steps=valid_steps,callbacks=[cp_callback])\r\n",
        "model.summary()"
      ],
      "execution_count": null,
      "outputs": [
        {
          "output_type": "stream",
          "text": [
            "Epoch 1/30\n",
            "268/268 [==============================] - 186s 607ms/step - loss: 1.9028 - val_loss: 1.5129\n",
            "\n",
            "Epoch 00001: saving model to Attention_concat_model/w1.ckpt\n",
            "Epoch 2/30\n",
            "268/268 [==============================] - 158s 590ms/step - loss: 1.4688 - val_loss: 1.3365\n",
            "\n",
            "Epoch 00002: saving model to Attention_concat_model/w1.ckpt\n",
            "Epoch 3/30\n",
            "268/268 [==============================] - 159s 592ms/step - loss: 1.2984 - val_loss: 1.1972\n",
            "\n",
            "Epoch 00003: saving model to Attention_concat_model/w1.ckpt\n",
            "Epoch 4/30\n",
            "268/268 [==============================] - 158s 588ms/step - loss: 1.1557 - val_loss: 1.0660\n",
            "\n",
            "Epoch 00004: saving model to Attention_concat_model/w1.ckpt\n",
            "Epoch 5/30\n",
            "268/268 [==============================] - 158s 590ms/step - loss: 1.0232 - val_loss: 0.9511\n",
            "\n",
            "Epoch 00005: saving model to Attention_concat_model/w1.ckpt\n",
            "Epoch 6/30\n",
            "268/268 [==============================] - 158s 589ms/step - loss: 0.9027 - val_loss: 0.8520\n",
            "\n",
            "Epoch 00006: saving model to Attention_concat_model/w1.ckpt\n",
            "Epoch 7/30\n",
            "268/268 [==============================] - 159s 592ms/step - loss: 0.8045 - val_loss: 0.7738\n",
            "\n",
            "Epoch 00007: saving model to Attention_concat_model/w1.ckpt\n",
            "Epoch 8/30\n",
            "268/268 [==============================] - 158s 589ms/step - loss: 0.7167 - val_loss: 0.6966\n",
            "\n",
            "Epoch 00008: saving model to Attention_concat_model/w1.ckpt\n",
            "Epoch 9/30\n",
            "268/268 [==============================] - 158s 588ms/step - loss: 0.6369 - val_loss: 0.6333\n",
            "\n",
            "Epoch 00009: saving model to Attention_concat_model/w1.ckpt\n",
            "Epoch 10/30\n",
            "268/268 [==============================] - 158s 590ms/step - loss: 0.5693 - val_loss: 0.5750\n",
            "\n",
            "Epoch 00010: saving model to Attention_concat_model/w1.ckpt\n",
            "Epoch 11/30\n",
            "268/268 [==============================] - 159s 592ms/step - loss: 0.5104 - val_loss: 0.5247\n",
            "\n",
            "Epoch 00011: saving model to Attention_concat_model/w1.ckpt\n",
            "Epoch 12/30\n",
            "268/268 [==============================] - 158s 590ms/step - loss: 0.4521 - val_loss: 0.4804\n",
            "\n",
            "Epoch 00012: saving model to Attention_concat_model/w1.ckpt\n",
            "Epoch 13/30\n",
            "268/268 [==============================] - 159s 595ms/step - loss: 0.4060 - val_loss: 0.4433\n",
            "\n",
            "Epoch 00013: saving model to Attention_concat_model/w1.ckpt\n",
            "Epoch 14/30\n",
            "268/268 [==============================] - 159s 592ms/step - loss: 0.3623 - val_loss: 0.4097\n",
            "\n",
            "Epoch 00014: saving model to Attention_concat_model/w1.ckpt\n",
            "Epoch 15/30\n",
            "268/268 [==============================] - 159s 594ms/step - loss: 0.3247 - val_loss: 0.3823\n",
            "\n",
            "Epoch 00015: saving model to Attention_concat_model/w1.ckpt\n",
            "Epoch 16/30\n",
            "268/268 [==============================] - 160s 598ms/step - loss: 0.2954 - val_loss: 0.3584\n",
            "\n",
            "Epoch 00016: saving model to Attention_concat_model/w1.ckpt\n",
            "Epoch 17/30\n",
            "268/268 [==============================] - 159s 593ms/step - loss: 0.2679 - val_loss: 0.3389\n",
            "\n",
            "Epoch 00017: saving model to Attention_concat_model/w1.ckpt\n",
            "Epoch 18/30\n",
            "268/268 [==============================] - 159s 593ms/step - loss: 0.2438 - val_loss: 0.3224\n",
            "\n",
            "Epoch 00018: saving model to Attention_concat_model/w1.ckpt\n",
            "Epoch 19/30\n",
            "268/268 [==============================] - 159s 594ms/step - loss: 0.2216 - val_loss: 0.3077\n",
            "\n",
            "Epoch 00019: saving model to Attention_concat_model/w1.ckpt\n",
            "Epoch 20/30\n",
            "268/268 [==============================] - 158s 591ms/step - loss: 0.2034 - val_loss: 0.2940\n",
            "\n",
            "Epoch 00020: saving model to Attention_concat_model/w1.ckpt\n",
            "Epoch 21/30\n",
            "268/268 [==============================] - 159s 592ms/step - loss: 0.1870 - val_loss: 0.2832\n",
            "\n",
            "Epoch 00021: saving model to Attention_concat_model/w1.ckpt\n",
            "Epoch 22/30\n",
            "268/268 [==============================] - 159s 594ms/step - loss: 0.1719 - val_loss: 0.2742\n",
            "\n",
            "Epoch 00022: saving model to Attention_concat_model/w1.ckpt\n",
            "Epoch 23/30\n",
            "268/268 [==============================] - 160s 596ms/step - loss: 0.1598 - val_loss: 0.2657\n",
            "\n",
            "Epoch 00023: saving model to Attention_concat_model/w1.ckpt\n",
            "Epoch 24/30\n",
            "268/268 [==============================] - 159s 592ms/step - loss: 0.1479 - val_loss: 0.2590\n",
            "\n",
            "Epoch 00024: saving model to Attention_concat_model/w1.ckpt\n",
            "Epoch 25/30\n",
            "268/268 [==============================] - 158s 590ms/step - loss: 0.1379 - val_loss: 0.2529\n",
            "\n",
            "Epoch 00025: saving model to Attention_concat_model/w1.ckpt\n",
            "Epoch 26/30\n",
            "268/268 [==============================] - 158s 590ms/step - loss: 0.1284 - val_loss: 0.2454\n",
            "\n",
            "Epoch 00026: saving model to Attention_concat_model/w1.ckpt\n",
            "Epoch 27/30\n",
            "268/268 [==============================] - 159s 592ms/step - loss: 0.1182 - val_loss: 0.2417\n",
            "\n",
            "Epoch 00027: saving model to Attention_concat_model/w1.ckpt\n",
            "Epoch 28/30\n",
            "268/268 [==============================] - 159s 594ms/step - loss: 0.1108 - val_loss: 0.2376\n",
            "\n",
            "Epoch 00028: saving model to Attention_concat_model/w1.ckpt\n",
            "Epoch 29/30\n",
            "268/268 [==============================] - 159s 594ms/step - loss: 0.1045 - val_loss: 0.2355\n",
            "\n",
            "Epoch 00029: saving model to Attention_concat_model/w1.ckpt\n",
            "Epoch 30/30\n",
            "268/268 [==============================] - 159s 593ms/step - loss: 0.0972 - val_loss: 0.2304\n",
            "\n",
            "Epoch 00030: saving model to Attention_concat_model/w1.ckpt\n",
            "Model: \"encoder__decoder_4\"\n",
            "_________________________________________________________________\n",
            "Layer (type)                 Output Shape              Param #   \n",
            "=================================================================\n",
            "encoder_4 (Encoder)          multiple                  5712768   \n",
            "_________________________________________________________________\n",
            "decoder_4 (Decoder)          multiple                  6723435   \n",
            "=================================================================\n",
            "Total params: 12,436,203\n",
            "Trainable params: 12,436,203\n",
            "Non-trainable params: 0\n",
            "_________________________________________________________________\n",
            "CPU times: user 1h 26min 56s, sys: 15min 6s, total: 1h 42min 3s\n",
            "Wall time: 1h 19min 59s\n"
          ],
          "name": "stdout"
        }
      ]
    },
    {
      "cell_type": "code",
      "metadata": {
        "colab": {
          "base_uri": "https://localhost:8080/",
          "height": 194
        },
        "id": "fCA-jKZUsc6H",
        "outputId": "6c215036-a5f3-4876-ca9c-a31063cad40e"
      },
      "source": [
        "prediction_data = validation.sample(10)\r\n",
        "prediction_data.head()"
      ],
      "execution_count": null,
      "outputs": [
        {
          "output_type": "execute_result",
          "data": {
            "text/html": [
              "<div>\n",
              "<style scoped>\n",
              "    .dataframe tbody tr th:only-of-type {\n",
              "        vertical-align: middle;\n",
              "    }\n",
              "\n",
              "    .dataframe tbody tr th {\n",
              "        vertical-align: top;\n",
              "    }\n",
              "\n",
              "    .dataframe thead th {\n",
              "        text-align: right;\n",
              "    }\n",
              "</style>\n",
              "<table border=\"1\" class=\"dataframe\">\n",
              "  <thead>\n",
              "    <tr style=\"text-align: right;\">\n",
              "      <th></th>\n",
              "      <th>italian</th>\n",
              "      <th>english_inp</th>\n",
              "      <th>english_out</th>\n",
              "    </tr>\n",
              "  </thead>\n",
              "  <tbody>\n",
              "    <tr>\n",
              "      <th>184829</th>\n",
              "      <td>tom lha fissata con un martello</td>\n",
              "      <td>&lt;start&gt; tom fixed it with a hammer</td>\n",
              "      <td>tom fixed it with a hammer &lt;end&gt;</td>\n",
              "    </tr>\n",
              "    <tr>\n",
              "      <th>249537</th>\n",
              "      <td>non avevo amici fatta eccezione per tom</td>\n",
              "      <td>&lt;start&gt; i had no friends except for tom</td>\n",
              "      <td>i had no friends except for tom &lt;end&gt;</td>\n",
              "    </tr>\n",
              "    <tr>\n",
              "      <th>22558</th>\n",
              "      <td>tom stava scherzando</td>\n",
              "      <td>&lt;start&gt; was tom joking</td>\n",
              "      <td>was tom joking &lt;end&gt;</td>\n",
              "    </tr>\n",
              "    <tr>\n",
              "      <th>330439</th>\n",
              "      <td>voi sapevate che tom e john erano i fratelli d...</td>\n",
              "      <td>&lt;start&gt; did you know tom and john were mary is...</td>\n",
              "      <td>did you know tom and john were mary is brother...</td>\n",
              "    </tr>\n",
              "    <tr>\n",
              "      <th>184621</th>\n",
              "      <td>tom non voleva essere qui</td>\n",
              "      <td>&lt;start&gt; tom did not want to be here</td>\n",
              "      <td>tom did not want to be here &lt;end&gt;</td>\n",
              "    </tr>\n",
              "  </tbody>\n",
              "</table>\n",
              "</div>"
            ],
            "text/plain": [
              "                                                  italian  ...                                        english_out\n",
              "184829                    tom lha fissata con un martello  ...                   tom fixed it with a hammer <end>\n",
              "249537            non avevo amici fatta eccezione per tom  ...              i had no friends except for tom <end>\n",
              "22558                                tom stava scherzando  ...                               was tom joking <end>\n",
              "330439  voi sapevate che tom e john erano i fratelli d...  ...  did you know tom and john were mary is brother...\n",
              "184621                          tom non voleva essere qui  ...                  tom did not want to be here <end>\n",
              "\n",
              "[5 rows x 3 columns]"
            ]
          },
          "metadata": {
            "tags": []
          },
          "execution_count": 81
        }
      ]
    },
    {
      "cell_type": "code",
      "metadata": {
        "id": "cYTAcoLcsc6H"
      },
      "source": [
        "prediction_data_inps = prediction_data['italian'].values"
      ],
      "execution_count": null,
      "outputs": []
    },
    {
      "cell_type": "code",
      "metadata": {
        "colab": {
          "base_uri": "https://localhost:8080/",
          "height": 1000
        },
        "id": "c2XrLY_isc6H",
        "outputId": "fe95951f-f2fb-4fbc-d39b-aa2f6723b51e"
      },
      "source": [
        "predicted_sent = []\r\n",
        "for input_sentence in prediction_data_inps:\r\n",
        "    predicted_sent.append(predict(input_sentence))"
      ],
      "execution_count": null,
      "outputs": [
        {
          "output_type": "stream",
          "text": [
            "input_sentence tom lha fissata con un martello\n"
          ],
          "name": "stdout"
        },
        {
          "output_type": "display_data",
          "data": {
            "image/png": "[encoded data removed]",
            "text/plain": [
              "<Figure size 720x720 with 1 Axes>"
            ]
          },
          "metadata": {
            "tags": [],
            "needs_background": "light"
          }
        },
        {
          "output_type": "stream",
          "text": [
            "input_sentence non avevo amici fatta eccezione per tom\n"
          ],
          "name": "stdout"
        },
        {
          "output_type": "display_data",
          "data": {
            "image/png": "[encoded data removed]",
            "text/plain": [
              "<Figure size 720x720 with 1 Axes>"
            ]
          },
          "metadata": {
            "tags": [],
            "needs_background": "light"
          }
        },
        {
          "output_type": "stream",
          "text": [
            "input_sentence tom stava scherzando\n"
          ],
          "name": "stdout"
        },
        {
          "output_type": "display_data",
          "data": {
            "image/png": "[encoded data removed]",
            "text/plain": [
              "<Figure size 720x720 with 1 Axes>"
            ]
          },
          "metadata": {
            "tags": [],
            "needs_background": "light"
          }
        },
        {
          "output_type": "stream",
          "text": [
            "input_sentence voi sapevate che tom e john erano i fratelli di mary\n"
          ],
          "name": "stdout"
        },
        {
          "output_type": "display_data",
          "data": {
            "image/png": "[encoded data removed]",
            "text/plain": [
              "<Figure size 720x720 with 1 Axes>"
            ]
          },
          "metadata": {
            "tags": [],
            "needs_background": "light"
          }
        },
        {
          "output_type": "stream",
          "text": [
            "input_sentence tom non voleva essere qui\n"
          ],
          "name": "stdout"
        },
        {
          "output_type": "display_data",
          "data": {
            "image/png": "[encoded data removed]",
            "text/plain": [
              "<Figure size 720x720 with 1 Axes>"
            ]
          },
          "metadata": {
            "tags": [],
            "needs_background": "light"
          }
        },
        {
          "output_type": "stream",
          "text": [
            "input_sentence perché sei sempre così meschino\n"
          ],
          "name": "stdout"
        },
        {
          "output_type": "display_data",
          "data": {
            "image/png": "[encoded data removed]",
            "text/plain": [
              "<Figure size 720x720 with 1 Axes>"
            ]
          },
          "metadata": {
            "tags": [],
            "needs_background": "light"
          }
        },
        {
          "output_type": "stream",
          "text": [
            "input_sentence non ribadire lovvio\n"
          ],
          "name": "stdout"
        },
        {
          "output_type": "display_data",
          "data": {
            "image/png": "[encoded data removed]",
            "text/plain": [
              "<Figure size 720x720 with 1 Axes>"
            ]
          },
          "metadata": {
            "tags": [],
            "needs_background": "light"
          }
        },
        {
          "output_type": "stream",
          "text": [
            "input_sentence io non ho mai detto questo a nessuno prima\n"
          ],
          "name": "stdout"
        },
        {
          "output_type": "display_data",
          "data": {
            "image/png": "[encoded data removed]",
            "text/plain": [
              "<Figure size 720x720 with 1 Axes>"
            ]
          },
          "metadata": {
            "tags": [],
            "needs_background": "light"
          }
        },
        {
          "output_type": "stream",
          "text": [
            "input_sentence sono state arrestate molte persone\n"
          ],
          "name": "stdout"
        },
        {
          "output_type": "display_data",
          "data": {
            "image/png": "[encoded data removed]",
            "text/plain": [
              "<Figure size 720x720 with 1 Axes>"
            ]
          },
          "metadata": {
            "tags": [],
            "needs_background": "light"
          }
        },
        {
          "output_type": "stream",
          "text": [
            "input_sentence sei felice\n"
          ],
          "name": "stdout"
        },
        {
          "output_type": "display_data",
          "data": {
            "image/png": "[encoded data removed]",
            "text/plain": [
              "<Figure size 720x720 with 1 Axes>"
            ]
          },
          "metadata": {
            "tags": [],
            "needs_background": "light"
          }
        }
      ]
    },
    {
      "cell_type": "code",
      "metadata": {
        "colab": {
          "base_uri": "https://localhost:8080/"
        },
        "id": "Klyfk8H5sc6I",
        "outputId": "5ca8ac99-d8ca-45c4-8f61-c6776febf20f"
      },
      "source": [
        "predicted_sent"
      ],
      "execution_count": null,
      "outputs": [
        {
          "output_type": "execute_result",
          "data": {
            "text/plain": [
              "[['tom', 'has', 'this', 'with', 'him'],\n",
              " ['i', 'did', 'not', 'have', 'any', 'friends', 'for', 'tom', 'yesterday'],\n",
              " ['tom', 'was', 'kidding'],\n",
              " ['did', 'you', 'know', 'that', 'tom', 'and', 'mary', 'are', 'dating', 'mary'],\n",
              " ['tom', 'did', 'not', 'want', 'to', 'be', 'here'],\n",
              " ['why', 'are', 'you', 'always', 'mean', 'that'],\n",
              " ['do', 'not', 'the', 'obvious'],\n",
              " ['i', 'have', 'never', 'told', 'this', 'one', 'before'],\n",
              " ['they', 'were', 'arrested', 'many', 'people'],\n",
              " ['are', 'you', 'happy']]"
            ]
          },
          "metadata": {
            "tags": []
          },
          "execution_count": 84
        }
      ]
    },
    {
      "cell_type": "markdown",
      "metadata": {
        "id": "w_o9hT4esc6I"
      },
      "source": [
        "<font color='PowderBlue'>**Calculate BLEU score**</font>"
      ]
    },
    {
      "cell_type": "code",
      "metadata": {
        "colab": {
          "base_uri": "https://localhost:8080/",
          "height": 194
        },
        "id": "8d2xonI4sc6I",
        "outputId": "e73755ec-d904-498d-9c2f-31e3d7da9d83"
      },
      "source": [
        "prediction_data = validation.sample(1000)\r\n",
        "prediction_data.head()"
      ],
      "execution_count": null,
      "outputs": [
        {
          "output_type": "execute_result",
          "data": {
            "text/html": [
              "<div>\n",
              "<style scoped>\n",
              "    .dataframe tbody tr th:only-of-type {\n",
              "        vertical-align: middle;\n",
              "    }\n",
              "\n",
              "    .dataframe tbody tr th {\n",
              "        vertical-align: top;\n",
              "    }\n",
              "\n",
              "    .dataframe thead th {\n",
              "        text-align: right;\n",
              "    }\n",
              "</style>\n",
              "<table border=\"1\" class=\"dataframe\">\n",
              "  <thead>\n",
              "    <tr style=\"text-align: right;\">\n",
              "      <th></th>\n",
              "      <th>italian</th>\n",
              "      <th>english_inp</th>\n",
              "      <th>english_out</th>\n",
              "    </tr>\n",
              "  </thead>\n",
              "  <tbody>\n",
              "    <tr>\n",
              "      <th>109008</th>\n",
              "      <td>tom sa cucinare</td>\n",
              "      <td>&lt;start&gt; tom knows how to cook</td>\n",
              "      <td>tom knows how to cook &lt;end&gt;</td>\n",
              "    </tr>\n",
              "    <tr>\n",
              "      <th>309684</th>\n",
              "      <td>bisognerebbe dormire otto ore al giorno</td>\n",
              "      <td>&lt;start&gt; you should sleep for eight hours a day</td>\n",
              "      <td>you should sleep for eight hours a day &lt;end&gt;</td>\n",
              "    </tr>\n",
              "    <tr>\n",
              "      <th>6845</th>\n",
              "      <td>cosera</td>\n",
              "      <td>&lt;start&gt; what was it</td>\n",
              "      <td>what was it &lt;end&gt;</td>\n",
              "    </tr>\n",
              "    <tr>\n",
              "      <th>255184</th>\n",
              "      <td>tom promise di ripararlo per me</td>\n",
              "      <td>&lt;start&gt; tom promised to fix that for me</td>\n",
              "      <td>tom promised to fix that for me &lt;end&gt;</td>\n",
              "    </tr>\n",
              "    <tr>\n",
              "      <th>176968</th>\n",
              "      <td>sarà sempre con lei</td>\n",
              "      <td>&lt;start&gt; he will always be with you</td>\n",
              "      <td>he will always be with you &lt;end&gt;</td>\n",
              "    </tr>\n",
              "  </tbody>\n",
              "</table>\n",
              "</div>"
            ],
            "text/plain": [
              "                                        italian  ...                                   english_out\n",
              "109008                          tom sa cucinare  ...                   tom knows how to cook <end>\n",
              "309684  bisognerebbe dormire otto ore al giorno  ...  you should sleep for eight hours a day <end>\n",
              "6845                                     cosera  ...                             what was it <end>\n",
              "255184          tom promise di ripararlo per me  ...         tom promised to fix that for me <end>\n",
              "176968                      sarà sempre con lei  ...              he will always be with you <end>\n",
              "\n",
              "[5 rows x 3 columns]"
            ]
          },
          "metadata": {
            "tags": []
          },
          "execution_count": 85
        }
      ]
    },
    {
      "cell_type": "code",
      "metadata": {
        "id": "x2Y8xkFrsc6J"
      },
      "source": [
        "prediction_data_inps = prediction_data['italian'].values"
      ],
      "execution_count": null,
      "outputs": []
    },
    {
      "cell_type": "code",
      "metadata": {
        "id": "yV7YTw0Esc6J"
      },
      "source": [
        "predicted_sent = []\r\n",
        "for input_sentence in prediction_data_inps:\r\n",
        "    predicted_sent.append(predict2(input_sentence))"
      ],
      "execution_count": null,
      "outputs": []
    },
    {
      "cell_type": "code",
      "metadata": {
        "colab": {
          "base_uri": "https://localhost:8080/"
        },
        "id": "dSi_hS5isc6J",
        "outputId": "ba641b18-2d3f-4d5b-ace5-a0969ba611be"
      },
      "source": [
        "predicted_sent[:5]"
      ],
      "execution_count": null,
      "outputs": [
        {
          "output_type": "execute_result",
          "data": {
            "text/plain": [
              "[['tom', 'knows', 'how', 'to', 'cook'],\n",
              " ['you', 'should', 'sleep', 'eight', 'hours', 'left'],\n",
              " ['what', 'was', 'it'],\n",
              " ['tom', 'promised', 'to', 'fix', 'that', 'for', 'me'],\n",
              " ['he', 'will', 'always', 'be', 'with', 'you']]"
            ]
          },
          "metadata": {
            "tags": []
          },
          "execution_count": 88
        }
      ]
    },
    {
      "cell_type": "code",
      "metadata": {
        "id": "tYZ9v4Jjsc6K"
      },
      "source": [
        "prediction_eng_inps = prediction_data['english_inp'].values\r\n"
      ],
      "execution_count": null,
      "outputs": []
    },
    {
      "cell_type": "code",
      "metadata": {
        "colab": {
          "base_uri": "https://localhost:8080/"
        },
        "id": "-Rsz03AXsc6K",
        "outputId": "f13a00b5-5426-4b79-cd6a-3216cb974ed7"
      },
      "source": [
        "\r\n",
        "eng_inps = []\r\n",
        "for i in prediction_eng_inps:\r\n",
        "    sent = []\r\n",
        "    for j in i.split():\r\n",
        "        if j!= '<start>':\r\n",
        "            sent.append(j)\r\n",
        "            \r\n",
        "    eng_inps.append(sent)\r\n",
        "\r\n",
        "eng_inps[:5]"
      ],
      "execution_count": null,
      "outputs": [
        {
          "output_type": "execute_result",
          "data": {
            "text/plain": [
              "[['tom', 'knows', 'how', 'to', 'cook'],\n",
              " ['you', 'should', 'sleep', 'for', 'eight', 'hours', 'a', 'day'],\n",
              " ['what', 'was', 'it'],\n",
              " ['tom', 'promised', 'to', 'fix', 'that', 'for', 'me'],\n",
              " ['he', 'will', 'always', 'be', 'with', 'you']]"
            ]
          },
          "metadata": {
            "tags": []
          },
          "execution_count": 90
        }
      ]
    },
    {
      "cell_type": "code",
      "metadata": {
        "id": "3S_hs0Yo7Ete"
      },
      "source": [
        "import nltk.translate.bleu_score as bleu\n",
        "blue_score = []\n",
        "for i in range(len(predicted_sent)):\n",
        "    blue_score.append(bleu.sentence_bleu([eng_inps[i]], predicted_sent[i]))"
      ],
      "execution_count": null,
      "outputs": []
    },
    {
      "cell_type": "code",
      "metadata": {
        "colab": {
          "base_uri": "https://localhost:8080/"
        },
        "id": "kwHYRz427Eth",
        "outputId": "14fc128e-3400-4381-fa85-ca5c82cb1fe2"
      },
      "source": [
        "blue_score[:5]"
      ],
      "execution_count": null,
      "outputs": [
        {
          "output_type": "execute_result",
          "data": {
            "text/plain": [
              "[1.0, 0.4260520663282873, 1.0, 1.0, 1.0]"
            ]
          },
          "metadata": {
            "tags": []
          },
          "execution_count": 92
        }
      ]
    },
    {
      "cell_type": "code",
      "metadata": {
        "colab": {
          "base_uri": "https://localhost:8080/"
        },
        "id": "DhQ_BN4z7Eti",
        "outputId": "28c17fad-785c-4038-f6be-b19af5a52691"
      },
      "source": [
        "#Average Blue Score\r\n",
        "print('avg_blue_score ',(sum(blue_score)/len(blue_score)))"
      ],
      "execution_count": null,
      "outputs": [
        {
          "output_type": "stream",
          "text": [
            "avg_blue_score  0.7829940126087284\n"
          ],
          "name": "stdout"
        }
      ]
    },
    {
      "cell_type": "markdown",
      "metadata": {
        "id": "sQ8R7ifS8BvZ"
      },
      "source": [
        "<font size = 5 color = 'Aquamarine' > Observations: - </font>\r\n",
        "\r\n",
        "1. For Concat scoring attention weights are more clearer in telling that which word helps in predicting which word in comparison to other two scoring techniques.\r\n",
        "2. Although from Blue Score performance of each scoring technique is almost similar. .\r\n",
        "3. By Writing code for different scoring I better able to understand about how attention mechanism works and context vector is calculated.\r\n",
        "4. Impact of using attention is clearly visible if we look at the blue score value.\r\n",
        "5. Even though we have small number datapoints still attention mechanism worked pretty well.\r\n",
        "6. I observed that longer sentence are not predicted very well by either of the encoder decoder mechanism.\r\n",
        "7. For small sentences not only the words but also the order of words is correct well for most.\r\n",
        "8. If we could train the model on larger dataset and with more intricate embedding vectors result could be far better.\r\n",
        "\r\n"
      ]
    }
  ]
}